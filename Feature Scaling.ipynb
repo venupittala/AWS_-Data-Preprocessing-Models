{
  "nbformat": 4,
  "nbformat_minor": 0,
  "metadata": {
    "colab": {
      "name": "Untitled7.ipynb",
      "provenance": []
    },
    "kernelspec": {
      "name": "python3",
      "display_name": "Python 3"
    }
  },
  "cells": [
    {
      "cell_type": "code",
      "metadata": {
        "colab": {
          "base_uri": "https://localhost:8080/",
          "height": 498
        },
        "id": "tFzKvFxC2vdM",
        "outputId": "36befc4b-d0e4-4431-dc39-9f42485e6768"
      },
      "source": [
        "!apt-get update\r\n",
        "!apt-get install openjdk-8-jdk-headless -qq > /dev/null\r\n",
        "!wget -q htt  https://archive.apache.org/dist/spark/spark-2.3.1/spark-2.3.1-bin-hadoop2.7.tgz\r\n",
        "!tar xf spark-2.3.1-bin-hadoop2.7.tgz\r\n",
        "!pip install -q findspark\r\n",
        "\r\n",
        "import os\r\n",
        "os.environ[\"JAVA_HOME\"] = \"/usr/lib/jvm/java-8-openjdk-amd64\"\r\n",
        "os.environ[\"SPARK_HOME\"] = \"/content/spark-2.3.1-bin-hadoop2.7\"\r\n",
        "\r\n",
        "import findspark\r\n",
        "findspark.init()\r\n",
        "from pyspark.sql import SparkSession\r\n",
        "spark = SparkSession.builder.getOrCreate()\r\n",
        "spark"
      ],
      "execution_count": 1,
      "outputs": [
        {
          "output_type": "stream",
          "text": [
            "\r0% [Working]\r            \rGet:1 https://cloud.r-project.org/bin/linux/ubuntu bionic-cran40/ InRelease [3,626 B]\n",
            "\r0% [Connecting to archive.ubuntu.com (91.189.88.152)] [Connecting to security.u\r0% [Connecting to archive.ubuntu.com (91.189.88.152)] [Connecting to security.u\r                                                                               \rIgn:2 https://developer.download.nvidia.com/compute/cuda/repos/ubuntu1804/x86_64  InRelease\n",
            "Ign:3 https://developer.download.nvidia.com/compute/machine-learning/repos/ubuntu1804/x86_64  InRelease\n",
            "Hit:4 https://developer.download.nvidia.com/compute/cuda/repos/ubuntu1804/x86_64  Release\n",
            "Hit:5 https://developer.download.nvidia.com/compute/machine-learning/repos/ubuntu1804/x86_64  Release\n",
            "Get:6 http://ppa.launchpad.net/c2d4u.team/c2d4u4.0+/ubuntu bionic InRelease [15.9 kB]\n",
            "Hit:7 http://archive.ubuntu.com/ubuntu bionic InRelease\n",
            "Get:8 http://security.ubuntu.com/ubuntu bionic-security InRelease [88.7 kB]\n",
            "Get:9 https://cloud.r-project.org/bin/linux/ubuntu bionic-cran40/ Packages [41.5 kB]\n",
            "Get:10 http://archive.ubuntu.com/ubuntu bionic-updates InRelease [88.7 kB]\n",
            "Hit:12 http://ppa.launchpad.net/cran/libgit2/ubuntu bionic InRelease\n",
            "Get:14 http://archive.ubuntu.com/ubuntu bionic-backports InRelease [74.6 kB]\n",
            "Hit:15 http://ppa.launchpad.net/graphics-drivers/ppa/ubuntu bionic InRelease\n",
            "Get:16 http://ppa.launchpad.net/c2d4u.team/c2d4u4.0+/ubuntu bionic/main Sources [1,703 kB]\n",
            "Get:17 http://ppa.launchpad.net/c2d4u.team/c2d4u4.0+/ubuntu bionic/main amd64 Packages [872 kB]\n",
            "Fetched 2,889 kB in 3s (842 kB/s)\n",
            "Reading package lists... Done\n"
          ],
          "name": "stdout"
        },
        {
          "output_type": "execute_result",
          "data": {
            "text/html": [
              "\n",
              "            <div>\n",
              "                <p><b>SparkSession - in-memory</b></p>\n",
              "                \n",
              "        <div>\n",
              "            <p><b>SparkContext</b></p>\n",
              "\n",
              "            <p><a href=\"http://ba36b156bed9:4040\">Spark UI</a></p>\n",
              "\n",
              "            <dl>\n",
              "              <dt>Version</dt>\n",
              "                <dd><code>v2.3.1</code></dd>\n",
              "              <dt>Master</dt>\n",
              "                <dd><code>local[*]</code></dd>\n",
              "              <dt>AppName</dt>\n",
              "                <dd><code>pyspark-shell</code></dd>\n",
              "            </dl>\n",
              "        </div>\n",
              "        \n",
              "            </div>\n",
              "        "
            ],
            "text/plain": [
              "<pyspark.sql.session.SparkSession at 0x7f20aeda1a90>"
            ]
          },
          "metadata": {
            "tags": []
          },
          "execution_count": 1
        }
      ]
    },
    {
      "cell_type": "code",
      "metadata": {
        "id": "V2A3p9wcDvo5"
      },
      "source": [
        "from pyspark.sql.functions import *"
      ],
      "execution_count": 39,
      "outputs": []
    },
    {
      "cell_type": "code",
      "metadata": {
        "colab": {
          "base_uri": "https://localhost:8080/"
        },
        "id": "Dkm26H7e_ZLd",
        "outputId": "7d64fd24-b60e-4a87-cedd-b251c7b854cd"
      },
      "source": [
        "df=spark.read.format(\"csv\").option(\"header\",\"true\").option(\"inferschema\",\"true\").load(\"/FS.csv\");\r\n",
        "df.show()"
      ],
      "execution_count": 64,
      "outputs": [
        {
          "output_type": "stream",
          "text": [
            "+-------+---+------+---------+\n",
            "|Country|Age|Salary|Purchased|\n",
            "+-------+---+------+---------+\n",
            "| France| 44| 72000|       No|\n",
            "|  Spain| 27| 48000|      Yes|\n",
            "|Germany| 30| 54000|       No|\n",
            "|  Spain| 38| 61000|       No|\n",
            "|Germany| 40|  1000|      Yes|\n",
            "| France| 35| 58000|      Yes|\n",
            "|  Spain| 78| 52000|       No|\n",
            "| France| 48| 79000|      Yes|\n",
            "|Germany| 50| 83000|       No|\n",
            "| France| 37| 67000|      Yes|\n",
            "+-------+---+------+---------+\n",
            "\n"
          ],
          "name": "stdout"
        }
      ]
    },
    {
      "cell_type": "code",
      "metadata": {
        "colab": {
          "base_uri": "https://localhost:8080/"
        },
        "id": "-K-gEQwa2wL3",
        "outputId": "ca11905a-f383-49ae-adc3-74b33e8645dd"
      },
      "source": [
        "df.count(),len(df.columns)"
      ],
      "execution_count": 65,
      "outputs": [
        {
          "output_type": "execute_result",
          "data": {
            "text/plain": [
              "(10, 4)"
            ]
          },
          "metadata": {
            "tags": []
          },
          "execution_count": 65
        }
      ]
    },
    {
      "cell_type": "code",
      "metadata": {
        "colab": {
          "base_uri": "https://localhost:8080/"
        },
        "id": "QcJQ1dDt__bu",
        "outputId": "e5c22dcb-6de1-48ad-8faa-a2ef635f3d3f"
      },
      "source": [
        "df.printSchema()"
      ],
      "execution_count": 66,
      "outputs": [
        {
          "output_type": "stream",
          "text": [
            "root\n",
            " |-- Country: string (nullable = true)\n",
            " |-- Age: integer (nullable = true)\n",
            " |-- Salary: integer (nullable = true)\n",
            " |-- Purchased: string (nullable = true)\n",
            "\n"
          ],
          "name": "stdout"
        }
      ]
    },
    {
      "cell_type": "code",
      "metadata": {
        "id": "ZQceSObBA1tO"
      },
      "source": [
        "df1=df.withColumn(\"Purchased_Index\",when(df['Purchased'] =='Yes',1).otherwise(0)).drop('Purchased');"
      ],
      "execution_count": 67,
      "outputs": []
    },
    {
      "cell_type": "code",
      "metadata": {
        "colab": {
          "base_uri": "https://localhost:8080/"
        },
        "id": "TSa3tk8BBJsn",
        "outputId": "c8339edd-bb9f-41d8-da99-f7b1c252a45f"
      },
      "source": [
        "df1.show()"
      ],
      "execution_count": 68,
      "outputs": [
        {
          "output_type": "stream",
          "text": [
            "+-------+---+------+---------------+\n",
            "|Country|Age|Salary|Purchased_Index|\n",
            "+-------+---+------+---------------+\n",
            "| France| 44| 72000|              0|\n",
            "|  Spain| 27| 48000|              1|\n",
            "|Germany| 30| 54000|              0|\n",
            "|  Spain| 38| 61000|              0|\n",
            "|Germany| 40|  1000|              1|\n",
            "| France| 35| 58000|              1|\n",
            "|  Spain| 78| 52000|              0|\n",
            "| France| 48| 79000|              1|\n",
            "|Germany| 50| 83000|              0|\n",
            "| France| 37| 67000|              1|\n",
            "+-------+---+------+---------------+\n",
            "\n"
          ],
          "name": "stdout"
        }
      ]
    },
    {
      "cell_type": "code",
      "metadata": {
        "colab": {
          "base_uri": "https://localhost:8080/"
        },
        "id": "JDBt3TL4ep6D",
        "outputId": "2dfb60ec-7dc4-4f38-a8de-2778b5f787e5"
      },
      "source": [
        "df1.columns"
      ],
      "execution_count": 69,
      "outputs": [
        {
          "output_type": "execute_result",
          "data": {
            "text/plain": [
              "['Country', 'Age', 'Salary', 'Purchased_Index']"
            ]
          },
          "metadata": {
            "tags": []
          },
          "execution_count": 69
        }
      ]
    },
    {
      "cell_type": "code",
      "metadata": {
        "id": "S_Atuh5RfrNT"
      },
      "source": [
        "ks1=(df1.select(mean('Age').alias('Mean_Value')).collect()[0].asDict()['Mean_Value'])\r\n",
        "gs1=(df1.select(stddev_pop('Age').alias('StandardDeviation_Value')).collect()[0].asDict()['StandardDeviation_Value'])"
      ],
      "execution_count": 70,
      "outputs": []
    },
    {
      "cell_type": "code",
      "metadata": {
        "id": "VuI77PQwgiic"
      },
      "source": [
        "ks2=(df1.select(mean('Salary').alias('Mean_Value')).collect()[0].asDict()['Mean_Value'])\r\n",
        "gs2=(df1.select(stddev_pop('Salary').alias('StandardDeviation_Value')).collect()[0].asDict()['StandardDeviation_Value'])"
      ],
      "execution_count": 71,
      "outputs": []
    },
    {
      "cell_type": "code",
      "metadata": {
        "colab": {
          "base_uri": "https://localhost:8080/"
        },
        "id": "tdi8IgF8er7C",
        "outputId": "f4efb211-463d-4d31-e662-3cbfd1ef742d"
      },
      "source": [
        "df1.withColumn('Standardized_Age',(df['Age']-ks1)/gs1).withColumn('Standardized_Salary',(df['Salary']-ks2)/gs2).show()"
      ],
      "execution_count": 72,
      "outputs": [
        {
          "output_type": "stream",
          "text": [
            "+-------+---+------+---------------+-------------------+--------------------+\n",
            "|Country|Age|Salary|Purchased_Index|   Standardized_Age| Standardized_Salary|\n",
            "+-------+---+------+---------------+-------------------+--------------------+\n",
            "| France| 44| 72000|              0|0.09536934736019054|  0.6652706149031185|\n",
            "|  Spain| 27| 48000|              1|-1.1517682719653808| -0.4358669545916983|\n",
            "|Germany| 30| 54000|              0|-0.9316851626726329| -0.1605825622179941|\n",
            "|  Spain| 38| 61000|              0|-0.3447968712253052|  0.1605825622179941|\n",
            "|Germany| 40|  1000|              1|-0.1980747983634733| -2.5922613615190477|\n",
            "| France| 35| 58000|              1|-0.5648799805180531|0.022940366031142013|\n",
            "|  Spain| 78| 52000|              0| 2.5896445860113335|-0.25234402634256214|\n",
            "| France| 48| 79000|              1| 0.3888134930838544|  0.9864357393391066|\n",
            "|Germany| 50| 83000|              0| 0.5355355659456863|  1.1699586675882427|\n",
            "| France| 37| 67000|              1|-0.4181579076562212|  0.4358669545916983|\n",
            "+-------+---+------+---------------+-------------------+--------------------+\n",
            "\n"
          ],
          "name": "stdout"
        }
      ]
    },
    {
      "cell_type": "code",
      "metadata": {
        "id": "Lm8oe4FEhlEP"
      },
      "source": [
        "ks1=(df1.select(min('Age').alias('Min_Value')).collect()[0].asDict()['Min_Value'])\r\n",
        "gs1=(df1.select(max('Age').alias('Max_Valeu')).collect()[0].asDict()['Max_Valeu'])"
      ],
      "execution_count": 73,
      "outputs": []
    },
    {
      "cell_type": "code",
      "metadata": {
        "id": "yRk11VLKhog2"
      },
      "source": [
        "ks2=(df1.select(min('Salary').alias('Min_Value')).collect()[0].asDict()['Min_Value'])\r\n",
        "gs2=(df1.select(max('Salary').alias('Max_Valeu')).collect()[0].asDict()['Max_Valeu'])"
      ],
      "execution_count": 74,
      "outputs": []
    },
    {
      "cell_type": "code",
      "metadata": {
        "colab": {
          "base_uri": "https://localhost:8080/"
        },
        "id": "Z-UDElJehs9_",
        "outputId": "3e4b04bc-17f1-4609-c097-4eeedb4d2435"
      },
      "source": [
        "df1.withColumn('Normalized',(df['Age']-ks1)/(gs1-ks1)).withColumn('Normalizeda',(df['Salary']-ks2)/(gs2-ks2)).show()"
      ],
      "execution_count": 75,
      "outputs": [
        {
          "output_type": "stream",
          "text": [
            "+-------+---+------+---------------+--------------------+------------------+\n",
            "|Country|Age|Salary|Purchased_Index|          Normalized|       Normalizeda|\n",
            "+-------+---+------+---------------+--------------------+------------------+\n",
            "| France| 44| 72000|              0|  0.3333333333333333|0.8658536585365854|\n",
            "|  Spain| 27| 48000|              1|                 0.0| 0.573170731707317|\n",
            "|Germany| 30| 54000|              0|0.058823529411764705|0.6463414634146342|\n",
            "|  Spain| 38| 61000|              0| 0.21568627450980393|0.7317073170731707|\n",
            "|Germany| 40|  1000|              1|  0.2549019607843137|               0.0|\n",
            "| France| 35| 58000|              1|  0.1568627450980392|0.6951219512195121|\n",
            "|  Spain| 78| 52000|              0|                 1.0|0.6219512195121951|\n",
            "| France| 48| 79000|              1|  0.4117647058823529|0.9512195121951219|\n",
            "|Germany| 50| 83000|              0| 0.45098039215686275|               1.0|\n",
            "| France| 37| 67000|              1| 0.19607843137254902|0.8048780487804879|\n",
            "+-------+---+------+---------------+--------------------+------------------+\n",
            "\n"
          ],
          "name": "stdout"
        }
      ]
    }
  ]
}