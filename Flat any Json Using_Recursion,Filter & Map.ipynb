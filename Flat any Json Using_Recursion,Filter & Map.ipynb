{
  "nbformat": 4,
  "nbformat_minor": 0,
  "metadata": {
    "colab": {
      "name": "Using Recursion, Filter & Map .ipynb",
      "provenance": []
    },
    "kernelspec": {
      "name": "python3",
      "display_name": "Python 3"
    }
  },
  "cells": [
    {
      "cell_type": "code",
      "metadata": {
        "id": "zmKLLw42JiCR",
        "colab": {
          "base_uri": "https://localhost:8080/",
          "height": 500
        },
        "outputId": "afb5ea5e-d993-4176-ff15-1b14565911aa"
      },
      "source": [
        "!apt-get update\r\n",
        "!apt-get install openjdk-8-jdk-headless -qq > /dev/null\r\n",
        "!wget -q htt  https://archive.apache.org/dist/spark/spark-2.3.1/spark-2.3.1-bin-hadoop2.7.tgz\r\n",
        "!tar xf spark-2.3.1-bin-hadoop2.7.tgz\r\n",
        "!pip install -q findspark\r\n",
        "\r\n",
        "import os\r\n",
        "os.environ[\"JAVA_HOME\"] = \"/usr/lib/jvm/java-8-openjdk-amd64\"\r\n",
        "os.environ[\"SPARK_HOME\"] = \"/content/spark-2.3.1-bin-hadoop2.7\"\r\n",
        "\r\n",
        "import findspark\r\n",
        "findspark.init()\r\n",
        "from pyspark.sql import SparkSession\r\n",
        "spark = SparkSession.builder.getOrCreate()\r\n",
        "spark"
      ],
      "execution_count": 1,
      "outputs": [
        {
          "output_type": "stream",
          "text": [
            "\r0% [Working]\r            \rGet:1 http://security.ubuntu.com/ubuntu bionic-security InRelease [88.7 kB]\n",
            "\r0% [Connecting to archive.ubuntu.com (91.189.88.152)] [1 InRelease 14.2 kB/88.7\r                                                                               \rGet:2 https://cloud.r-project.org/bin/linux/ubuntu bionic-cran40/ InRelease [3,626 B]\n",
            "\r0% [Waiting for headers] [1 InRelease 60.5 kB/88.7 kB 68%] [2 InRelease 0 B/3,6\r0% [Waiting for headers] [1 InRelease 88.7 kB/88.7 kB 100%] [Waiting for header\r                                                                               \rIgn:3 https://developer.download.nvidia.com/compute/cuda/repos/ubuntu1804/x86_64  InRelease\n",
            "Get:4 http://ppa.launchpad.net/c2d4u.team/c2d4u4.0+/ubuntu bionic InRelease [15.9 kB]\n",
            "Hit:5 http://archive.ubuntu.com/ubuntu bionic InRelease\n",
            "Ign:6 https://developer.download.nvidia.com/compute/machine-learning/repos/ubuntu1804/x86_64  InRelease\n",
            "Hit:7 https://developer.download.nvidia.com/compute/cuda/repos/ubuntu1804/x86_64  Release\n",
            "Hit:8 https://developer.download.nvidia.com/compute/machine-learning/repos/ubuntu1804/x86_64  Release\n",
            "Get:9 http://archive.ubuntu.com/ubuntu bionic-updates InRelease [88.7 kB]\n",
            "Hit:10 http://ppa.launchpad.net/cran/libgit2/ubuntu bionic InRelease\n",
            "Get:11 https://cloud.r-project.org/bin/linux/ubuntu bionic-cran40/ Packages [41.5 kB]\n",
            "Get:12 http://archive.ubuntu.com/ubuntu bionic-backports InRelease [74.6 kB]\n",
            "Hit:13 http://ppa.launchpad.net/graphics-drivers/ppa/ubuntu bionic InRelease\n",
            "Get:16 http://ppa.launchpad.net/c2d4u.team/c2d4u4.0+/ubuntu bionic/main Sources [1,704 kB]\n",
            "Get:17 http://ppa.launchpad.net/c2d4u.team/c2d4u4.0+/ubuntu bionic/main amd64 Packages [873 kB]\n",
            "Fetched 2,890 kB in 3s (970 kB/s)\n",
            "Reading package lists... Done\n"
          ],
          "name": "stdout"
        },
        {
          "output_type": "execute_result",
          "data": {
            "text/html": [
              "\n",
              "            <div>\n",
              "                <p><b>SparkSession - in-memory</b></p>\n",
              "                \n",
              "        <div>\n",
              "            <p><b>SparkContext</b></p>\n",
              "\n",
              "            <p><a href=\"http://629e9ee66ccd:4040\">Spark UI</a></p>\n",
              "\n",
              "            <dl>\n",
              "              <dt>Version</dt>\n",
              "                <dd><code>v2.3.1</code></dd>\n",
              "              <dt>Master</dt>\n",
              "                <dd><code>local[*]</code></dd>\n",
              "              <dt>AppName</dt>\n",
              "                <dd><code>pyspark-shell</code></dd>\n",
              "            </dl>\n",
              "        </div>\n",
              "        \n",
              "            </div>\n",
              "        "
            ],
            "text/plain": [
              "<pyspark.sql.session.SparkSession at 0x7f32d4d15a90>"
            ]
          },
          "metadata": {
            "tags": []
          },
          "execution_count": 1
        }
      ]
    },
    {
      "cell_type": "markdown",
      "metadata": {
        "id": "6kf9msDToJEh"
      },
      "source": [
        "https://www.24tutorials.com/spark/flatten-json-spark-dataframe/"
      ]
    },
    {
      "cell_type": "code",
      "metadata": {
        "id": "xVxcjWiYJinf"
      },
      "source": [
        "from pyspark.sql.functions import *\r\n",
        "from pyspark.sql.types import *"
      ],
      "execution_count": 79,
      "outputs": []
    },
    {
      "cell_type": "code",
      "metadata": {
        "id": "_fTKjipQJsOj",
        "colab": {
          "base_uri": "https://localhost:8080/"
        },
        "outputId": "2fe9ef36-17d0-4ef5-fabe-85326cf80a89"
      },
      "source": [
        "df=spark.read.option(\"multiline\",\"true\").json('/content/Py-SparkcodetoFlattenJSON.json')\r\n",
        "df.show()"
      ],
      "execution_count": 80,
      "outputs": [
        {
          "output_type": "stream",
          "text": [
            "+--------------------+---------+\n",
            "|               feeds|totalFeed|\n",
            "+--------------------+---------+\n",
            "|[[0, 0, 2020-01-0...|      125|\n",
            "+--------------------+---------+\n",
            "\n"
          ],
          "name": "stdout"
        }
      ]
    },
    {
      "cell_type": "code",
      "metadata": {
        "colab": {
          "base_uri": "https://localhost:8080/"
        },
        "id": "Y3iaYh80VUaV",
        "outputId": "961d6eef-53f1-4c8c-a811-ea707946c7ba"
      },
      "source": [
        "df.printSchema()"
      ],
      "execution_count": 81,
      "outputs": [
        {
          "output_type": "stream",
          "text": [
            "root\n",
            " |-- feeds: array (nullable = true)\n",
            " |    |-- element: struct (containsNull = true)\n",
            " |    |    |-- code: long (nullable = true)\n",
            " |    |    |-- commentCount: long (nullable = true)\n",
            " |    |    |-- createdAt: string (nullable = true)\n",
            " |    |    |-- description: string (nullable = true)\n",
            " |    |    |-- feedsComment: string (nullable = true)\n",
            " |    |    |-- id: long (nullable = true)\n",
            " |    |    |-- imagePaths: string (nullable = true)\n",
            " |    |    |-- images: string (nullable = true)\n",
            " |    |    |-- isdeleted: boolean (nullable = true)\n",
            " |    |    |-- lat: long (nullable = true)\n",
            " |    |    |-- likeDislike: struct (nullable = true)\n",
            " |    |    |    |-- dislikes: long (nullable = true)\n",
            " |    |    |    |-- likes: long (nullable = true)\n",
            " |    |    |    |-- userAction: long (nullable = true)\n",
            " |    |    |-- lng: long (nullable = true)\n",
            " |    |    |-- location: string (nullable = true)\n",
            " |    |    |-- mediatype: long (nullable = true)\n",
            " |    |    |-- msg: string (nullable = true)\n",
            " |    |    |-- multiMedia: array (nullable = true)\n",
            " |    |    |    |-- element: struct (containsNull = true)\n",
            " |    |    |    |    |-- createAt: string (nullable = true)\n",
            " |    |    |    |    |-- description: string (nullable = true)\n",
            " |    |    |    |    |-- id: long (nullable = true)\n",
            " |    |    |    |    |-- likeCount: long (nullable = true)\n",
            " |    |    |    |    |-- mediatype: long (nullable = true)\n",
            " |    |    |    |    |-- name: string (nullable = true)\n",
            " |    |    |    |    |-- place: string (nullable = true)\n",
            " |    |    |    |    |-- url: string (nullable = true)\n",
            " |    |    |-- name: string (nullable = true)\n",
            " |    |    |-- profilePicture: string (nullable = true)\n",
            " |    |    |-- title: string (nullable = true)\n",
            " |    |    |-- userId: long (nullable = true)\n",
            " |    |    |-- videoUrl: string (nullable = true)\n",
            " |-- totalFeed: long (nullable = true)\n",
            "\n"
          ],
          "name": "stdout"
        }
      ]
    },
    {
      "cell_type": "code",
      "metadata": {
        "id": "y1KqA-9J_8Sl"
      },
      "source": [
        "def all_columns_apart_from_the_particular_column(df,name_string):\r\n",
        "  ms=df.schema.fields;\r\n",
        "  ag=list(filter(lambda x: x.name!=name_string,ms));\r\n",
        "  am=list(map(lambda x:x.name,ag));\r\n",
        "  return am;"
      ],
      "execution_count": 82,
      "outputs": []
    },
    {
      "cell_type": "code",
      "metadata": {
        "id": "cbsHT6fmNlZd"
      },
      "source": [
        "def expand_structure(df,dfstruct,al):\r\n",
        "  ag=[];\r\n",
        "  ag=list(map(lambda x:al+\".\"+x.name,dfstruct))\r\n",
        "  return ag;"
      ],
      "execution_count": 83,
      "outputs": []
    },
    {
      "cell_type": "code",
      "metadata": {
        "id": "ZasObT-kh7f5"
      },
      "source": [
        "def flat_df(df):\r\n",
        "  all_raw_fields=df.schema.fields;\r\n",
        "  for i in all_raw_fields:\r\n",
        "    if (str(i.dataType)[0:9])==\"ArrayType\":\r\n",
        "      column_list=all_columns_apart_from_the_particular_column(df,i.name);\r\n",
        "      explosion=\"explode(\"+i.name+\")\" \"as \"+\"Exploded_\"+i.name;\r\n",
        "      column_list.append(explosion);\r\n",
        "      df=df.selectExpr(column_list);\r\n",
        "    elif (str(i.dataType)[0:10])==\"StructType\":\r\n",
        "      column_list=all_columns_apart_from_the_particular_column(df,i.name);\r\n",
        "      dfstruct=df.schema[i.name].dataType.fields;\r\n",
        "      all_fields_within_structure=expand_structure(df,dfstruct,i.name);\r\n",
        "      proper_name = [ x+\" as \"+ x.replace('.', \"_\") for x in all_fields_within_structure ];\r\n",
        "      column_list.extend(proper_name)\r\n",
        "      df=df.selectExpr(column_list);\r\n",
        "  return df;"
      ],
      "execution_count": 84,
      "outputs": []
    },
    {
      "cell_type": "code",
      "metadata": {
        "id": "g1fxXEvTEmER"
      },
      "source": [
        "def encapsulation(df):\r\n",
        "  ms=str(df.schema);\r\n",
        "  if ((\"ArrayType\" in ms)):\r\n",
        "    processing=flat_df(df);\r\n",
        "    return encapsulation(processing);\r\n",
        "  elif (ms.count(\"StructType\")>1):\r\n",
        "    processing=flat_df(df);\r\n",
        "    return encapsulation(processing);\r\n",
        "  else:\r\n",
        "    return (df);"
      ],
      "execution_count": 85,
      "outputs": []
    },
    {
      "cell_type": "code",
      "metadata": {
        "id": "-zwef1geEqz3"
      },
      "source": [
        "df1=encapsulation(df);"
      ],
      "execution_count": 86,
      "outputs": []
    },
    {
      "cell_type": "code",
      "metadata": {
        "colab": {
          "base_uri": "https://localhost:8080/"
        },
        "id": "2-xvYFviNbLY",
        "outputId": "306a6f25-b408-4386-d770-886a51c340cf"
      },
      "source": [
        "df1.show()"
      ],
      "execution_count": 87,
      "outputs": [
        {
          "output_type": "stream",
          "text": [
            "+---------+-------------------+---------------------------+------------------------+--------------------------+---------------------------+-----------------+-------------------------+---------------------+------------------------+------------------+------------------+-----------------------+------------------------+------------------+-------------------+-----------------------------+--------------------+---------------------+-----------------------+-----------------------------------+--------------------------------+-------------------------------------+-------------------------------------------+----------------------------------------------+-------------------------------------+--------------------------------------------+--------------------------------------------+---------------------------------------+----------------------------------------+--------------------------------------+\n",
            "|totalFeed|Exploded_feeds_code|Exploded_feeds_commentCount|Exploded_feeds_createdAt|Exploded_feeds_description|Exploded_feeds_feedsComment|Exploded_feeds_id|Exploded_feeds_imagePaths|Exploded_feeds_images|Exploded_feeds_isdeleted|Exploded_feeds_lat|Exploded_feeds_lng|Exploded_feeds_location|Exploded_feeds_mediatype|Exploded_feeds_msg|Exploded_feeds_name|Exploded_feeds_profilePicture|Exploded_feeds_title|Exploded_feeds_userId|Exploded_feeds_videoUrl|Exploded_feeds_likeDislike_dislikes|Exploded_feeds_likeDislike_likes|Exploded_feeds_likeDislike_userAction|Exploded_Exploded_feeds_multiMedia_createAt|Exploded_Exploded_feeds_multiMedia_description|Exploded_Exploded_feeds_multiMedia_id|Exploded_Exploded_feeds_multiMedia_likeCount|Exploded_Exploded_feeds_multiMedia_mediatype|Exploded_Exploded_feeds_multiMedia_name|Exploded_Exploded_feeds_multiMedia_place|Exploded_Exploded_feeds_multiMedia_url|\n",
            "+---------+-------------------+---------------------------+------------------------+--------------------------+---------------------------+-----------------+-------------------------+---------------------+------------------------+------------------+------------------+-----------------------+------------------------+------------------+-------------------+-----------------------------+--------------------+---------------------+-----------------------+-----------------------------------+--------------------------------+-------------------------------------+-------------------------------------------+----------------------------------------------+-------------------------------------+--------------------------------------------+--------------------------------------------+---------------------------------------+----------------------------------------+--------------------------------------+\n",
            "|      125|                  0|                          0|    2020-01-02T13:32:...|                       ghj|                       null|             2140|                     null|                 null|                   false|                 0|                 0|   Hermannplatz 5-6,...|                       0|              null|              manoj|         Images/9b291404-b...|                  gj|                 4051|                   null|                                  0|                               0|                                    2|                        0001-01-01T00:00:00|                                          null|                                 3240|                                           0|                                           2|                                       |                                    null|                  http://www.youtub...|\n",
            "|      125|                  0|                          2|    2020-01-02T10:54:...|                        df|                       null|             2139|                     null|                 null|                   false|                 0|                 0|   443 N Rodeo Dr, B...|                       0|              null|              manoj|         Images/9b291404-b...|                 dfg|                 4051|                   null|                                  0|                               0|                                    2|                        0001-01-01T00:00:00|                                          null|                                 3239|                                           0|                                           2|                                       |                                    null|                  http://www.youtub...|\n",
            "|      125|                  0|                          0|    2020-01-02T10:53:...|      dflg sk mcn re  f...|                       null|             2138|                     null|                 null|                   false|                 0|                 0|   IFFCO Chowk Flyov...|                       0|              null|              manoj|         Images/9b291404-b...|          TEst Video|                 4051|                   null|                                  0|                               0|                                    2|                        0001-01-01T00:00:00|                                          null|                                 3238|                                           0|                                           2|                                       |                                    null|                  http://www.youtub...|\n",
            "|      125|                  0|                          7|    2020-01-02T10:41:...|                        qq|                       null|             2137|                     null|                 null|                   false|                 0|                 0|   2001 NV-582, Las ...|                       0|              null|              manoj|         Images/9b291404-b...|                  QQ|                 4051|                   null|                                  0|                               0|                                    2|                        0001-01-01T00:00:00|                                          null|                                 3237|                                           0|                                           2|                                       |                                    null|                  https://www.youtu...|\n",
            "|      125|                  0|                          0|    2020-01-02T10:37:...|                       ghj|                       null|             2136|                     null|                 null|                   false|                 0|                 0|   103 B100, Anglese...|                       0|              null|              manoj|         Images/9b291404-b...|                  gj|                 4051|                   null|                                  0|                               0|                                    2|                        0001-01-01T00:00:00|                                          null|                                 3236|                                           0|                                           2|                                       |                                    null|                  https://www.youtu...|\n",
            "|      125|                  0|                          0|    2020-01-02T10:35:...|                       sdf|                       null|             2135|                     null|                 null|                   false|                 0|                 0|   1 Downing St, Wes...|                       0|              null|              manoj|         Images/9b291404-b...|                 sdf|                 4051|                   null|                                  0|                               0|                                    2|                        0001-01-01T00:00:00|                                          null|                                 3235|                                           0|                                           2|                                       |                                    null|                  https://www.youtu...|\n",
            "|      125|                  0|                          2|    2020-01-02T09:14:...|      Rinku Singh (born...|                       null|             2134|                     null|                 null|                   false|                 0|                 0|   Unnamed Road Acha...|                       0|              null|              manoj|         Images/9b291404-b...|         Rinku Singh|                 4051|                   null|                                  0|                               1|                                    2|                        0001-01-01T00:00:00|                                          null|                                 3233|                                           0|                                           1|                   rinku_singh_15700...|                                    null|                  feedsmedia/4051/4...|\n",
            "|      125|                  0|                          2|    2020-01-02T09:14:...|      Rinku Singh (born...|                       null|             2134|                     null|                 null|                   false|                 0|                 0|   Unnamed Road Acha...|                       0|              null|              manoj|         Images/9b291404-b...|         Rinku Singh|                 4051|                   null|                                  0|                               1|                                    2|                        0001-01-01T00:00:00|                                          null|                                 3234|                                           0|                                           1|                            04rinku.jpg|                                    null|                  feedsmedia/4051/b...|\n",
            "|      125|                  0|                          1|    2020-01-02T06:06:...|      Jaipur is the cap...|                       null|             2133|                     null|                 null|                   false|                 0|                 0|   1st Floor, Bambaw...|                       0|              null|             jagjit|         Images/fe49d058-d...|      TRIP TO JAIPUR|                 3039|                   null|                                  0|                               0|                                    2|                        0001-01-01T00:00:00|                                          null|                                 3232|                                           0|                                           2|                                       |                                    null|                  https://www.youtu...|\n",
            "|      125|                  0|                          0|    2020-01-02T05:29:...|      LIFE IS EITHER A ...|                       null|             2132|                     null|                 null|                   false|                 0|                 0|   Royal Tower, Bloc...|                       0|              null|             jagjit|         Images/fe49d058-d...|                Test|                 3039|                   null|                                  0|                               0|                                    2|                        0001-01-01T00:00:00|                                          null|                                 3231|                                           0|                                           1|                              Delhi.jpg|                                    null|                  feedsmedia/3039/0...|\n",
            "|      125|                  0|                          2|    2020-01-01T12:32:...|      This is new Year ...|                       null|             2131|                     null|                 null|                   false|                 0|                 0|   14, Ambala-Dehrad...|                       0|              null|   Ashish Thapliyal|         Images/fc8af47d-e...|           awerfghnm|                 3031|                   null|                                  0|                               0|                                    2|                        0001-01-01T00:00:00|                                          null|                                 3230|                                           0|                                           1|                           Surabaya.jpg|                                    null|                  feedsmedia/3031/1...|\n",
            "|      125|                  0|                          1|    2020-01-01T12:08:...|                     dfgdf|                       null|             2130|                     null|                 null|                   false|                 0|                 0|   Rannamõisa tee 4f...|                       0|              null|                 n1|         Images/4e60754a-e...|                 dfg|                 3035|                   null|                                  0|                               1|                                    2|                        0001-01-01T00:00:00|                                          null|                                 3229|                                           0|                                           1|                             images.jpg|                                    null|                  feedsmedia/3035/6...|\n",
            "|      125|                  0|                          1|    2020-01-01T11:14:...|                       fgh|                       null|             2129|                     null|                 null|                   false|                 0|                 0|   Pattayasainueang,...|                       0|              null|              manoj|         Images/9b291404-b...|                 fgh|                 4051|                   null|                                  0|                               1|                                    2|                        0001-01-01T00:00:00|                                          null|                                 3228|                                           0|                                           1|                             images.png|                                    null|                  feedsmedia/4051/9...|\n",
            "|      125|                  0|                          1|    2020-01-01T09:49:...|      name = 'Angular';...|                       null|             2128|                     null|                 null|                   false|                 0|                 0|   Budapest, Erzsébe...|                       0|              null|             sanjay|         /Images/userimage...|                 WEw|                 3033|                   null|                                  0|                               0|                                    2|                        0001-01-01T00:00:00|                                          null|                                 3227|                                           0|                                           1|                          DALHOUSIE.jpg|                                    null|                  feedsmedia/3033/0...|\n",
            "|      125|                  0|                          2|    2020-01-01T07:27:...|                     erter|                       null|             2127|                     null|                 null|                   false|                 0|                 0|   IFFCO Chowk Flyov...|                       0|              null|             sanjay|         /Images/userimage...|                 dsf|                 3033|                   null|                                  1|                               2|                                    2|                        0001-01-01T00:00:00|                                          null|                                 3226|                                           0|                                           2|                                       |                                    null|                  https://www.youtu...|\n",
            "|      125|                  0|                          0|    2020-01-01T06:01:...|      इस नए साल खुशियों...|                       null|             2126|                     null|                 null|                   false|                 0|                 0|   174, Buddh Vihar,...|                       0|              null|             jagjit|         Images/fe49d058-d...|        Hpy New Year|                 3039|                   null|                                  0|                               1|                                    2|                        0001-01-01T00:00:00|                                          null|                                 3225|                                           0|                                           1|                   Shubra_El-Kheima.jpg|                                    null|                  feedsmedia/3039/3...|\n",
            "|      125|                  0|                          0|    2020-01-01T05:21:...|             Youtube video|                       null|             2125|                     null|                 null|                   false|                 0|                 0|   Ramnagar Bus Stan...|                       0|              null|             sanjay|         /Images/userimage...|        Upload video|                 3033|                   null|                                  0|                               0|                                    2|                        0001-01-01T00:00:00|                                          null|                                 3224|                                           0|                                           2|                                       |                                    null|                  https://www.youtu...|\n",
            "|      125|                  0|                          0|    2020-01-01T04:57:...|               Description|                       null|             2124|                     null|                 null|                   false|                 0|                 0|   Delhi Noida Direc...|                       0|              null|               neha|         /Images/userimage...|               Title|                 3034|                   null|                                  0|                               0|                                    2|                        0001-01-01T00:00:00|                                          null|                                 3223|                                           0|                                           1|                            images.jfif|                                    null|                  feedsmedia/3034/5...|\n",
            "|      125|                  0|                          0|    2020-01-01T04:48:...|      यूं तो पूरे विश्व...|                       null|             2123|                     null|                 null|                   false|                 0|                 0|   Vijay Chowk Rd, B...|                       0|              null|    Aryan Thapliyal|         Images/8a8a93f3-5...|Test different la...|                 3046|                   null|                                  1|                               0|                                    2|                        0001-01-01T00:00:00|                                          null|                                 3222|                                           0|                                           1|                              Tanta.jpg|                                    null|                  feedsmedia/3046/9...|\n",
            "|      125|                  0|                          0|    2020-01-01T04:47:...|                    sdfsdf|                       null|             2122|                     null|                 null|                   false|                 0|                 0|   D 10 Noida, Secto...|                       0|              null|               neha|         /Images/userimage...|              dsfsdf|                 3034|                   null|                                  0|                               0|                                    2|                        0001-01-01T00:00:00|                                          null|                                 3218|                                           0|                                           1|                            images2.png|                                    null|                  feedsmedia/3034/8...|\n",
            "+---------+-------------------+---------------------------+------------------------+--------------------------+---------------------------+-----------------+-------------------------+---------------------+------------------------+------------------+------------------+-----------------------+------------------------+------------------+-------------------+-----------------------------+--------------------+---------------------+-----------------------+-----------------------------------+--------------------------------+-------------------------------------+-------------------------------------------+----------------------------------------------+-------------------------------------+--------------------------------------------+--------------------------------------------+---------------------------------------+----------------------------------------+--------------------------------------+\n",
            "only showing top 20 rows\n",
            "\n"
          ],
          "name": "stdout"
        }
      ]
    },
    {
      "cell_type": "code",
      "metadata": {
        "colab": {
          "base_uri": "https://localhost:8080/"
        },
        "id": "Sx9lgz_wOayE",
        "outputId": "4f3312c2-30bd-4452-ba87-871f1f6a2c2f"
      },
      "source": [
        "df1.count(),len(df1.columns)"
      ],
      "execution_count": 88,
      "outputs": [
        {
          "output_type": "execute_result",
          "data": {
            "text/plain": [
              "(296, 31)"
            ]
          },
          "metadata": {
            "tags": []
          },
          "execution_count": 88
        }
      ]
    },
    {
      "cell_type": "code",
      "metadata": {
        "colab": {
          "base_uri": "https://localhost:8080/"
        },
        "id": "lDEEBaD2OeqZ",
        "outputId": "56c889db-5636-4712-8e0f-57a85bce6126"
      },
      "source": [
        "df1.printSchema()"
      ],
      "execution_count": 89,
      "outputs": [
        {
          "output_type": "stream",
          "text": [
            "root\n",
            " |-- totalFeed: long (nullable = true)\n",
            " |-- Exploded_feeds_code: long (nullable = true)\n",
            " |-- Exploded_feeds_commentCount: long (nullable = true)\n",
            " |-- Exploded_feeds_createdAt: string (nullable = true)\n",
            " |-- Exploded_feeds_description: string (nullable = true)\n",
            " |-- Exploded_feeds_feedsComment: string (nullable = true)\n",
            " |-- Exploded_feeds_id: long (nullable = true)\n",
            " |-- Exploded_feeds_imagePaths: string (nullable = true)\n",
            " |-- Exploded_feeds_images: string (nullable = true)\n",
            " |-- Exploded_feeds_isdeleted: boolean (nullable = true)\n",
            " |-- Exploded_feeds_lat: long (nullable = true)\n",
            " |-- Exploded_feeds_lng: long (nullable = true)\n",
            " |-- Exploded_feeds_location: string (nullable = true)\n",
            " |-- Exploded_feeds_mediatype: long (nullable = true)\n",
            " |-- Exploded_feeds_msg: string (nullable = true)\n",
            " |-- Exploded_feeds_name: string (nullable = true)\n",
            " |-- Exploded_feeds_profilePicture: string (nullable = true)\n",
            " |-- Exploded_feeds_title: string (nullable = true)\n",
            " |-- Exploded_feeds_userId: long (nullable = true)\n",
            " |-- Exploded_feeds_videoUrl: string (nullable = true)\n",
            " |-- Exploded_feeds_likeDislike_dislikes: long (nullable = true)\n",
            " |-- Exploded_feeds_likeDislike_likes: long (nullable = true)\n",
            " |-- Exploded_feeds_likeDislike_userAction: long (nullable = true)\n",
            " |-- Exploded_Exploded_feeds_multiMedia_createAt: string (nullable = true)\n",
            " |-- Exploded_Exploded_feeds_multiMedia_description: string (nullable = true)\n",
            " |-- Exploded_Exploded_feeds_multiMedia_id: long (nullable = true)\n",
            " |-- Exploded_Exploded_feeds_multiMedia_likeCount: long (nullable = true)\n",
            " |-- Exploded_Exploded_feeds_multiMedia_mediatype: long (nullable = true)\n",
            " |-- Exploded_Exploded_feeds_multiMedia_name: string (nullable = true)\n",
            " |-- Exploded_Exploded_feeds_multiMedia_place: string (nullable = true)\n",
            " |-- Exploded_Exploded_feeds_multiMedia_url: string (nullable = true)\n",
            "\n"
          ],
          "name": "stdout"
        }
      ]
    },
    {
      "cell_type": "code",
      "metadata": {
        "id": "Pc3HV7raOgf8"
      },
      "source": [
        ""
      ],
      "execution_count": null,
      "outputs": []
    }
  ]
}