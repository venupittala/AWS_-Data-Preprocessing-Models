{
  "nbformat": 4,
  "nbformat_minor": 0,
  "metadata": {
    "colab": {
      "name": "Untitled10.ipynb",
      "provenance": []
    },
    "kernelspec": {
      "name": "python3",
      "display_name": "Python 3"
    }
  },
  "cells": [
    {
      "cell_type": "code",
      "metadata": {
        "colab": {
          "base_uri": "https://localhost:8080/",
          "height": 498
        },
        "id": "1GyNX3mwMtOJ",
        "outputId": "595283d6-8277-454e-e75a-2b23d9491dc9"
      },
      "source": [
        "!apt-get update\r\n",
        "!apt-get install openjdk-8-jdk-headless -qq > /dev/null\r\n",
        "!wget -q htt  https://archive.apache.org/dist/spark/spark-2.3.1/spark-2.3.1-bin-hadoop2.7.tgz\r\n",
        "!tar xf spark-2.3.1-bin-hadoop2.7.tgz\r\n",
        "!pip install -q findspark\r\n",
        "\r\n",
        "import os\r\n",
        "os.environ[\"JAVA_HOME\"] = \"/usr/lib/jvm/java-8-openjdk-amd64\"\r\n",
        "os.environ[\"SPARK_HOME\"] = \"/content/spark-2.3.1-bin-hadoop2.7\"\r\n",
        "\r\n",
        "import findspark\r\n",
        "findspark.init()\r\n",
        "from pyspark.sql import SparkSession\r\n",
        "spark = SparkSession.builder.getOrCreate()\r\n",
        "spark"
      ],
      "execution_count": null,
      "outputs": [
        {
          "output_type": "stream",
          "text": [
            "\r0% [Working]\r            \rGet:1 https://cloud.r-project.org/bin/linux/ubuntu bionic-cran40/ InRelease [3,626 B]\n",
            "\r0% [Connecting to archive.ubuntu.com (91.189.88.152)] [Connecting to security.u\r0% [Connecting to archive.ubuntu.com (91.189.88.152)] [Connecting to security.u\r                                                                               \rIgn:2 https://developer.download.nvidia.com/compute/cuda/repos/ubuntu1804/x86_64  InRelease\n",
            "\r0% [Connecting to archive.ubuntu.com (91.189.88.152)] [Waiting for headers] [Co\r0% [1 InRelease gpgv 3,626 B] [Connecting to archive.ubuntu.com (91.189.88.152)\r                                                                               \rIgn:3 https://developer.download.nvidia.com/compute/machine-learning/repos/ubuntu1804/x86_64  InRelease\n",
            "\r0% [1 InRelease gpgv 3,626 B] [Connecting to archive.ubuntu.com (91.189.88.152)\r                                                                               \rHit:4 https://developer.download.nvidia.com/compute/cuda/repos/ubuntu1804/x86_64  Release\n",
            "\r0% [1 InRelease gpgv 3,626 B] [Connecting to archive.ubuntu.com (91.189.88.152)\r                                                                               \rHit:5 https://developer.download.nvidia.com/compute/machine-learning/repos/ubuntu1804/x86_64  Release\n",
            "Get:6 http://security.ubuntu.com/ubuntu bionic-security InRelease [88.7 kB]\n",
            "Get:7 http://ppa.launchpad.net/c2d4u.team/c2d4u4.0+/ubuntu bionic InRelease [15.9 kB]\n",
            "Hit:8 http://archive.ubuntu.com/ubuntu bionic InRelease\n",
            "Get:9 http://archive.ubuntu.com/ubuntu bionic-updates InRelease [88.7 kB]\n",
            "Get:10 https://cloud.r-project.org/bin/linux/ubuntu bionic-cran40/ Packages [41.5 kB]\n",
            "Hit:11 http://ppa.launchpad.net/cran/libgit2/ubuntu bionic InRelease\n",
            "Hit:13 http://ppa.launchpad.net/graphics-drivers/ppa/ubuntu bionic InRelease\n",
            "Get:14 http://archive.ubuntu.com/ubuntu bionic-backports InRelease [74.6 kB]\n",
            "Get:16 http://ppa.launchpad.net/c2d4u.team/c2d4u4.0+/ubuntu bionic/main Sources [1,703 kB]\n",
            "Get:17 http://ppa.launchpad.net/c2d4u.team/c2d4u4.0+/ubuntu bionic/main amd64 Packages [872 kB]\n",
            "Fetched 2,889 kB in 3s (934 kB/s)\n",
            "Reading package lists... Done\n"
          ],
          "name": "stdout"
        },
        {
          "output_type": "execute_result",
          "data": {
            "text/html": [
              "\n",
              "            <div>\n",
              "                <p><b>SparkSession - in-memory</b></p>\n",
              "                \n",
              "        <div>\n",
              "            <p><b>SparkContext</b></p>\n",
              "\n",
              "            <p><a href=\"http://4c87ac707f7d:4040\">Spark UI</a></p>\n",
              "\n",
              "            <dl>\n",
              "              <dt>Version</dt>\n",
              "                <dd><code>v2.3.1</code></dd>\n",
              "              <dt>Master</dt>\n",
              "                <dd><code>local[*]</code></dd>\n",
              "              <dt>AppName</dt>\n",
              "                <dd><code>pyspark-shell</code></dd>\n",
              "            </dl>\n",
              "        </div>\n",
              "        \n",
              "            </div>\n",
              "        "
            ],
            "text/plain": [
              "<pyspark.sql.session.SparkSession at 0x7f63a127bba8>"
            ]
          },
          "metadata": {
            "tags": []
          },
          "execution_count": 1
        }
      ]
    },
    {
      "cell_type": "code",
      "metadata": {
        "id": "HPGTR8f4Mtrw"
      },
      "source": [
        "from pyspark.sql.functions import explode,col\r\n",
        "from pyspark.sql.types import *"
      ],
      "execution_count": null,
      "outputs": []
    },
    {
      "cell_type": "markdown",
      "metadata": {
        "id": "BaOIuUOcWw-f"
      },
      "source": [
        "# **Read the Data**"
      ]
    },
    {
      "cell_type": "markdown",
      "metadata": {
        "id": "9dqwZTy0PVR0"
      },
      "source": [
        "**Spark JSON data source API provides the multiline option to read records from multiple lines.\r\n",
        "By default, spark considers every record in a JSON file as a fully qualified record in a single line hence, we need to use the multiline option to process JSON from multiple lines.**"
      ]
    },
    {
      "cell_type": "code",
      "metadata": {
        "colab": {
          "base_uri": "https://localhost:8080/"
        },
        "id": "agwAtZKvMweb",
        "outputId": "b5c1e3fb-e400-42a1-d4be-5cb90d85afbd"
      },
      "source": [
        "df=spark.read.option(\"multiline\",\"true\").json('/content/Py-SparkcodetoFlattenJSON.json')\r\n",
        "df.show()"
      ],
      "execution_count": null,
      "outputs": [
        {
          "output_type": "stream",
          "text": [
            "+--------------------+---------+\n",
            "|               feeds|totalFeed|\n",
            "+--------------------+---------+\n",
            "|[[0, 0, 2020-01-0...|      125|\n",
            "+--------------------+---------+\n",
            "\n"
          ],
          "name": "stdout"
        }
      ]
    },
    {
      "cell_type": "markdown",
      "metadata": {
        "id": "oysNK7yvWzZV"
      },
      "source": [
        "# **Check the schema of the Data**"
      ]
    },
    {
      "cell_type": "code",
      "metadata": {
        "colab": {
          "base_uri": "https://localhost:8080/"
        },
        "id": "b0Chp184MysO",
        "outputId": "b095e369-1a52-4e0a-f0af-69e1484a992c"
      },
      "source": [
        "df.printSchema()"
      ],
      "execution_count": null,
      "outputs": [
        {
          "output_type": "stream",
          "text": [
            "root\n",
            " |-- feeds: array (nullable = true)\n",
            " |    |-- element: struct (containsNull = true)\n",
            " |    |    |-- code: long (nullable = true)\n",
            " |    |    |-- commentCount: long (nullable = true)\n",
            " |    |    |-- createdAt: string (nullable = true)\n",
            " |    |    |-- description: string (nullable = true)\n",
            " |    |    |-- feedsComment: string (nullable = true)\n",
            " |    |    |-- id: long (nullable = true)\n",
            " |    |    |-- imagePaths: string (nullable = true)\n",
            " |    |    |-- images: string (nullable = true)\n",
            " |    |    |-- isdeleted: boolean (nullable = true)\n",
            " |    |    |-- lat: long (nullable = true)\n",
            " |    |    |-- likeDislike: struct (nullable = true)\n",
            " |    |    |    |-- dislikes: long (nullable = true)\n",
            " |    |    |    |-- likes: long (nullable = true)\n",
            " |    |    |    |-- userAction: long (nullable = true)\n",
            " |    |    |-- lng: long (nullable = true)\n",
            " |    |    |-- location: string (nullable = true)\n",
            " |    |    |-- mediatype: long (nullable = true)\n",
            " |    |    |-- msg: string (nullable = true)\n",
            " |    |    |-- multiMedia: array (nullable = true)\n",
            " |    |    |    |-- element: struct (containsNull = true)\n",
            " |    |    |    |    |-- createAt: string (nullable = true)\n",
            " |    |    |    |    |-- description: string (nullable = true)\n",
            " |    |    |    |    |-- id: long (nullable = true)\n",
            " |    |    |    |    |-- likeCount: long (nullable = true)\n",
            " |    |    |    |    |-- mediatype: long (nullable = true)\n",
            " |    |    |    |    |-- name: string (nullable = true)\n",
            " |    |    |    |    |-- place: string (nullable = true)\n",
            " |    |    |    |    |-- url: string (nullable = true)\n",
            " |    |    |-- name: string (nullable = true)\n",
            " |    |    |-- profilePicture: string (nullable = true)\n",
            " |    |    |-- title: string (nullable = true)\n",
            " |    |    |-- userId: long (nullable = true)\n",
            " |    |    |-- videoUrl: string (nullable = true)\n",
            " |-- totalFeed: long (nullable = true)\n",
            "\n"
          ],
          "name": "stdout"
        }
      ]
    },
    {
      "cell_type": "code",
      "metadata": {
        "colab": {
          "base_uri": "https://localhost:8080/"
        },
        "id": "AEJIRopsM0l6",
        "outputId": "93e938f0-b4fc-42dd-bfbb-a1f41ba67189"
      },
      "source": [
        "df.columns"
      ],
      "execution_count": null,
      "outputs": [
        {
          "output_type": "execute_result",
          "data": {
            "text/plain": [
              "['feeds', 'totalFeed']"
            ]
          },
          "metadata": {
            "tags": []
          },
          "execution_count": 5
        }
      ]
    },
    {
      "cell_type": "code",
      "metadata": {
        "id": "pF5RvE_DZwPF"
      },
      "source": [
        "klsa=df.columns;"
      ],
      "execution_count": null,
      "outputs": []
    },
    {
      "cell_type": "code",
      "metadata": {
        "colab": {
          "base_uri": "https://localhost:8080/"
        },
        "id": "biytFNvzM2fU",
        "outputId": "bb942f8b-f3eb-4dca-a619-769cbd2ddbf2"
      },
      "source": [
        "df.dtypes"
      ],
      "execution_count": null,
      "outputs": [
        {
          "output_type": "execute_result",
          "data": {
            "text/plain": [
              "[('feeds',\n",
              "  'array<struct<code:bigint,commentCount:bigint,createdAt:string,description:string,feedsComment:string,id:bigint,imagePaths:string,images:string,isdeleted:boolean,lat:bigint,likeDislike:struct<dislikes:bigint,likes:bigint,userAction:bigint>,lng:bigint,location:string,mediatype:bigint,msg:string,multiMedia:array<struct<createAt:string,description:string,id:bigint,likeCount:bigint,mediatype:bigint,name:string,place:string,url:string>>,name:string,profilePicture:string,title:string,userId:bigint,videoUrl:string>>'),\n",
              " ('totalFeed', 'bigint')]"
            ]
          },
          "metadata": {
            "tags": []
          },
          "execution_count": 7
        }
      ]
    },
    {
      "cell_type": "markdown",
      "metadata": {
        "id": "1D-6dcwWVAAf"
      },
      "source": [
        "# **Initialization**"
      ]
    },
    {
      "cell_type": "code",
      "metadata": {
        "id": "n7vID1drO0Ta"
      },
      "source": [
        "array_cols=[];\r\n",
        "structure_cols=[];"
      ],
      "execution_count": null,
      "outputs": []
    },
    {
      "cell_type": "code",
      "metadata": {
        "id": "p7vKns-VS4C9"
      },
      "source": [
        "temp=0;"
      ],
      "execution_count": null,
      "outputs": []
    },
    {
      "cell_type": "code",
      "metadata": {
        "id": "t12eLTC5Vobp"
      },
      "source": [
        "data_types=df.dtypes;\r\n",
        "for c in data_types:\r\n",
        "  if c[1][0:5] == \"array\":\r\n",
        "    array_cols.append(c[0]);\r\n",
        "  elif c[1][0:6] == \"struct\":\r\n",
        "    structure_cols.append(c[0]);"
      ],
      "execution_count": null,
      "outputs": []
    },
    {
      "cell_type": "markdown",
      "metadata": {
        "id": "NChs2LCgWi0Y"
      },
      "source": [
        "# **Main Loop Execution**"
      ]
    },
    {
      "cell_type": "code",
      "metadata": {
        "id": "OhetCTuRWw7F"
      },
      "source": [
        "while temp!=1:\r\n",
        "  #Number of columns present in the current DataFrame which are Array\r\n",
        "  length_array_cols=len(array_cols); \r\n",
        "  #Number of columns present in the current DataFrame which are Structures\r\n",
        "  length_structure_cols=len(structure_cols); \r\n",
        "  #Explode all the Arrays\r\n",
        "  for i in range(length_array_cols):\r\n",
        "    df=df.withColumn(\"Expanded_\"+array_cols[i],explode(df[array_cols[i]])).drop(array_cols[i]);\r\n",
        "  #Take all the Structure columns & flat it\r\n",
        "  for i in range(length_structure_cols):\r\n",
        "    dfstruct=df.schema[structure_cols[i]].dataType.fields;#Extracting the fields of the structure columns\r\n",
        "    number_of_fields=len(dfstruct);\r\n",
        "    for mj in range(number_of_fields):#Iterate through all the fields & store those in new column in original DataFrame\r\n",
        "      df=df.withColumn(structure_cols[i]+\"_\"+dfstruct[mj].name,df[structure_cols[i]+\".\"+dfstruct[mj].name])\r\n",
        "    df=df.drop(structure_cols[i]);#Drop the Structure Column which is handled\r\n",
        " #Recalculate number of array & structure type column present in the DataFrame\r\n",
        "  data_types=df.dtypes;\r\n",
        "  array_cols=[];\r\n",
        "  structure_cols=[];\r\n",
        "  for c in data_types:\r\n",
        "    if c[1][0:5] == \"array\":\r\n",
        "      array_cols.append(c[0]);\r\n",
        "    elif c[1][0:6] == \"struct\":\r\n",
        "      structure_cols.append(c[0]);\r\n",
        " #Break the loop when there is no Complex Structure present\r\n",
        "  if((len(array_cols)==0) & (len(structure_cols)==0)):\r\n",
        "    temp=temp+1;"
      ],
      "execution_count": null,
      "outputs": []
    },
    {
      "cell_type": "markdown",
      "metadata": {
        "id": "0Ku8g6qwWsII"
      },
      "source": [
        "# **Check the Flatten Data**"
      ]
    },
    {
      "cell_type": "code",
      "metadata": {
        "colab": {
          "base_uri": "https://localhost:8080/"
        },
        "id": "HYnpQbyyq8Jr",
        "outputId": "a88f17eb-9d31-4b74-a295-08f6c76bd8d0"
      },
      "source": [
        "df.show()"
      ],
      "execution_count": null,
      "outputs": [
        {
          "output_type": "stream",
          "text": [
            "+---------+-------------------+---------------------------+------------------------+--------------------------+---------------------------+-----------------+-------------------------+---------------------+------------------------+------------------+------------------+-----------------------+------------------------+------------------+-------------------+-----------------------------+--------------------+---------------------+-----------------------+-----------------------------------+--------------------------------+-------------------------------------+-------------------------------------------+----------------------------------------------+-------------------------------------+--------------------------------------------+--------------------------------------------+---------------------------------------+----------------------------------------+--------------------------------------+\n",
            "|totalFeed|Expanded_feeds_code|Expanded_feeds_commentCount|Expanded_feeds_createdAt|Expanded_feeds_description|Expanded_feeds_feedsComment|Expanded_feeds_id|Expanded_feeds_imagePaths|Expanded_feeds_images|Expanded_feeds_isdeleted|Expanded_feeds_lat|Expanded_feeds_lng|Expanded_feeds_location|Expanded_feeds_mediatype|Expanded_feeds_msg|Expanded_feeds_name|Expanded_feeds_profilePicture|Expanded_feeds_title|Expanded_feeds_userId|Expanded_feeds_videoUrl|Expanded_feeds_likeDislike_dislikes|Expanded_feeds_likeDislike_likes|Expanded_feeds_likeDislike_userAction|Expanded_Expanded_feeds_multiMedia_createAt|Expanded_Expanded_feeds_multiMedia_description|Expanded_Expanded_feeds_multiMedia_id|Expanded_Expanded_feeds_multiMedia_likeCount|Expanded_Expanded_feeds_multiMedia_mediatype|Expanded_Expanded_feeds_multiMedia_name|Expanded_Expanded_feeds_multiMedia_place|Expanded_Expanded_feeds_multiMedia_url|\n",
            "+---------+-------------------+---------------------------+------------------------+--------------------------+---------------------------+-----------------+-------------------------+---------------------+------------------------+------------------+------------------+-----------------------+------------------------+------------------+-------------------+-----------------------------+--------------------+---------------------+-----------------------+-----------------------------------+--------------------------------+-------------------------------------+-------------------------------------------+----------------------------------------------+-------------------------------------+--------------------------------------------+--------------------------------------------+---------------------------------------+----------------------------------------+--------------------------------------+\n",
            "|      125|                  0|                          0|    2020-01-02T13:32:...|                       ghj|                       null|             2140|                     null|                 null|                   false|                 0|                 0|   Hermannplatz 5-6,...|                       0|              null|              manoj|         Images/9b291404-b...|                  gj|                 4051|                   null|                                  0|                               0|                                    2|                        0001-01-01T00:00:00|                                          null|                                 3240|                                           0|                                           2|                                       |                                    null|                  http://www.youtub...|\n",
            "|      125|                  0|                          2|    2020-01-02T10:54:...|                        df|                       null|             2139|                     null|                 null|                   false|                 0|                 0|   443 N Rodeo Dr, B...|                       0|              null|              manoj|         Images/9b291404-b...|                 dfg|                 4051|                   null|                                  0|                               0|                                    2|                        0001-01-01T00:00:00|                                          null|                                 3239|                                           0|                                           2|                                       |                                    null|                  http://www.youtub...|\n",
            "|      125|                  0|                          0|    2020-01-02T10:53:...|      dflg sk mcn re  f...|                       null|             2138|                     null|                 null|                   false|                 0|                 0|   IFFCO Chowk Flyov...|                       0|              null|              manoj|         Images/9b291404-b...|          TEst Video|                 4051|                   null|                                  0|                               0|                                    2|                        0001-01-01T00:00:00|                                          null|                                 3238|                                           0|                                           2|                                       |                                    null|                  http://www.youtub...|\n",
            "|      125|                  0|                          7|    2020-01-02T10:41:...|                        qq|                       null|             2137|                     null|                 null|                   false|                 0|                 0|   2001 NV-582, Las ...|                       0|              null|              manoj|         Images/9b291404-b...|                  QQ|                 4051|                   null|                                  0|                               0|                                    2|                        0001-01-01T00:00:00|                                          null|                                 3237|                                           0|                                           2|                                       |                                    null|                  https://www.youtu...|\n",
            "|      125|                  0|                          0|    2020-01-02T10:37:...|                       ghj|                       null|             2136|                     null|                 null|                   false|                 0|                 0|   103 B100, Anglese...|                       0|              null|              manoj|         Images/9b291404-b...|                  gj|                 4051|                   null|                                  0|                               0|                                    2|                        0001-01-01T00:00:00|                                          null|                                 3236|                                           0|                                           2|                                       |                                    null|                  https://www.youtu...|\n",
            "|      125|                  0|                          0|    2020-01-02T10:35:...|                       sdf|                       null|             2135|                     null|                 null|                   false|                 0|                 0|   1 Downing St, Wes...|                       0|              null|              manoj|         Images/9b291404-b...|                 sdf|                 4051|                   null|                                  0|                               0|                                    2|                        0001-01-01T00:00:00|                                          null|                                 3235|                                           0|                                           2|                                       |                                    null|                  https://www.youtu...|\n",
            "|      125|                  0|                          2|    2020-01-02T09:14:...|      Rinku Singh (born...|                       null|             2134|                     null|                 null|                   false|                 0|                 0|   Unnamed Road Acha...|                       0|              null|              manoj|         Images/9b291404-b...|         Rinku Singh|                 4051|                   null|                                  0|                               1|                                    2|                        0001-01-01T00:00:00|                                          null|                                 3233|                                           0|                                           1|                   rinku_singh_15700...|                                    null|                  feedsmedia/4051/4...|\n",
            "|      125|                  0|                          2|    2020-01-02T09:14:...|      Rinku Singh (born...|                       null|             2134|                     null|                 null|                   false|                 0|                 0|   Unnamed Road Acha...|                       0|              null|              manoj|         Images/9b291404-b...|         Rinku Singh|                 4051|                   null|                                  0|                               1|                                    2|                        0001-01-01T00:00:00|                                          null|                                 3234|                                           0|                                           1|                            04rinku.jpg|                                    null|                  feedsmedia/4051/b...|\n",
            "|      125|                  0|                          1|    2020-01-02T06:06:...|      Jaipur is the cap...|                       null|             2133|                     null|                 null|                   false|                 0|                 0|   1st Floor, Bambaw...|                       0|              null|             jagjit|         Images/fe49d058-d...|      TRIP TO JAIPUR|                 3039|                   null|                                  0|                               0|                                    2|                        0001-01-01T00:00:00|                                          null|                                 3232|                                           0|                                           2|                                       |                                    null|                  https://www.youtu...|\n",
            "|      125|                  0|                          0|    2020-01-02T05:29:...|      LIFE IS EITHER A ...|                       null|             2132|                     null|                 null|                   false|                 0|                 0|   Royal Tower, Bloc...|                       0|              null|             jagjit|         Images/fe49d058-d...|                Test|                 3039|                   null|                                  0|                               0|                                    2|                        0001-01-01T00:00:00|                                          null|                                 3231|                                           0|                                           1|                              Delhi.jpg|                                    null|                  feedsmedia/3039/0...|\n",
            "|      125|                  0|                          2|    2020-01-01T12:32:...|      This is new Year ...|                       null|             2131|                     null|                 null|                   false|                 0|                 0|   14, Ambala-Dehrad...|                       0|              null|   Ashish Thapliyal|         Images/fc8af47d-e...|           awerfghnm|                 3031|                   null|                                  0|                               0|                                    2|                        0001-01-01T00:00:00|                                          null|                                 3230|                                           0|                                           1|                           Surabaya.jpg|                                    null|                  feedsmedia/3031/1...|\n",
            "|      125|                  0|                          1|    2020-01-01T12:08:...|                     dfgdf|                       null|             2130|                     null|                 null|                   false|                 0|                 0|   Rannamõisa tee 4f...|                       0|              null|                 n1|         Images/4e60754a-e...|                 dfg|                 3035|                   null|                                  0|                               1|                                    2|                        0001-01-01T00:00:00|                                          null|                                 3229|                                           0|                                           1|                             images.jpg|                                    null|                  feedsmedia/3035/6...|\n",
            "|      125|                  0|                          1|    2020-01-01T11:14:...|                       fgh|                       null|             2129|                     null|                 null|                   false|                 0|                 0|   Pattayasainueang,...|                       0|              null|              manoj|         Images/9b291404-b...|                 fgh|                 4051|                   null|                                  0|                               1|                                    2|                        0001-01-01T00:00:00|                                          null|                                 3228|                                           0|                                           1|                             images.png|                                    null|                  feedsmedia/4051/9...|\n",
            "|      125|                  0|                          1|    2020-01-01T09:49:...|      name = 'Angular';...|                       null|             2128|                     null|                 null|                   false|                 0|                 0|   Budapest, Erzsébe...|                       0|              null|             sanjay|         /Images/userimage...|                 WEw|                 3033|                   null|                                  0|                               0|                                    2|                        0001-01-01T00:00:00|                                          null|                                 3227|                                           0|                                           1|                          DALHOUSIE.jpg|                                    null|                  feedsmedia/3033/0...|\n",
            "|      125|                  0|                          2|    2020-01-01T07:27:...|                     erter|                       null|             2127|                     null|                 null|                   false|                 0|                 0|   IFFCO Chowk Flyov...|                       0|              null|             sanjay|         /Images/userimage...|                 dsf|                 3033|                   null|                                  1|                               2|                                    2|                        0001-01-01T00:00:00|                                          null|                                 3226|                                           0|                                           2|                                       |                                    null|                  https://www.youtu...|\n",
            "|      125|                  0|                          0|    2020-01-01T06:01:...|      इस नए साल खुशियों...|                       null|             2126|                     null|                 null|                   false|                 0|                 0|   174, Buddh Vihar,...|                       0|              null|             jagjit|         Images/fe49d058-d...|        Hpy New Year|                 3039|                   null|                                  0|                               1|                                    2|                        0001-01-01T00:00:00|                                          null|                                 3225|                                           0|                                           1|                   Shubra_El-Kheima.jpg|                                    null|                  feedsmedia/3039/3...|\n",
            "|      125|                  0|                          0|    2020-01-01T05:21:...|             Youtube video|                       null|             2125|                     null|                 null|                   false|                 0|                 0|   Ramnagar Bus Stan...|                       0|              null|             sanjay|         /Images/userimage...|        Upload video|                 3033|                   null|                                  0|                               0|                                    2|                        0001-01-01T00:00:00|                                          null|                                 3224|                                           0|                                           2|                                       |                                    null|                  https://www.youtu...|\n",
            "|      125|                  0|                          0|    2020-01-01T04:57:...|               Description|                       null|             2124|                     null|                 null|                   false|                 0|                 0|   Delhi Noida Direc...|                       0|              null|               neha|         /Images/userimage...|               Title|                 3034|                   null|                                  0|                               0|                                    2|                        0001-01-01T00:00:00|                                          null|                                 3223|                                           0|                                           1|                            images.jfif|                                    null|                  feedsmedia/3034/5...|\n",
            "|      125|                  0|                          0|    2020-01-01T04:48:...|      यूं तो पूरे विश्व...|                       null|             2123|                     null|                 null|                   false|                 0|                 0|   Vijay Chowk Rd, B...|                       0|              null|    Aryan Thapliyal|         Images/8a8a93f3-5...|Test different la...|                 3046|                   null|                                  1|                               0|                                    2|                        0001-01-01T00:00:00|                                          null|                                 3222|                                           0|                                           1|                              Tanta.jpg|                                    null|                  feedsmedia/3046/9...|\n",
            "|      125|                  0|                          0|    2020-01-01T04:47:...|                    sdfsdf|                       null|             2122|                     null|                 null|                   false|                 0|                 0|   D 10 Noida, Secto...|                       0|              null|               neha|         /Images/userimage...|              dsfsdf|                 3034|                   null|                                  0|                               0|                                    2|                        0001-01-01T00:00:00|                                          null|                                 3218|                                           0|                                           1|                            images2.png|                                    null|                  feedsmedia/3034/8...|\n",
            "+---------+-------------------+---------------------------+------------------------+--------------------------+---------------------------+-----------------+-------------------------+---------------------+------------------------+------------------+------------------+-----------------------+------------------------+------------------+-------------------+-----------------------------+--------------------+---------------------+-----------------------+-----------------------------------+--------------------------------+-------------------------------------+-------------------------------------------+----------------------------------------------+-------------------------------------+--------------------------------------------+--------------------------------------------+---------------------------------------+----------------------------------------+--------------------------------------+\n",
            "only showing top 20 rows\n",
            "\n"
          ],
          "name": "stdout"
        }
      ]
    },
    {
      "cell_type": "code",
      "metadata": {
        "id": "96gxKNKpYDHd",
        "colab": {
          "base_uri": "https://localhost:8080/"
        },
        "outputId": "627480b0-12f8-434f-9cfe-b5d1de2b8abb"
      },
      "source": [
        "df.count(),len(df.columns)"
      ],
      "execution_count": null,
      "outputs": [
        {
          "output_type": "execute_result",
          "data": {
            "text/plain": [
              "(296, 31)"
            ]
          },
          "metadata": {
            "tags": []
          },
          "execution_count": 13
        }
      ]
    },
    {
      "cell_type": "code",
      "metadata": {
        "colab": {
          "base_uri": "https://localhost:8080/"
        },
        "id": "O5VFr8Y15x6v",
        "outputId": "2bf1686d-5d93-4d17-bf3a-42be1d1f8cbc"
      },
      "source": [
        "df.printSchema()"
      ],
      "execution_count": null,
      "outputs": [
        {
          "output_type": "stream",
          "text": [
            "root\n",
            " |-- totalFeed: long (nullable = true)\n",
            " |-- Expanded_feeds_code: long (nullable = true)\n",
            " |-- Expanded_feeds_commentCount: long (nullable = true)\n",
            " |-- Expanded_feeds_createdAt: string (nullable = true)\n",
            " |-- Expanded_feeds_description: string (nullable = true)\n",
            " |-- Expanded_feeds_feedsComment: string (nullable = true)\n",
            " |-- Expanded_feeds_id: long (nullable = true)\n",
            " |-- Expanded_feeds_imagePaths: string (nullable = true)\n",
            " |-- Expanded_feeds_images: string (nullable = true)\n",
            " |-- Expanded_feeds_isdeleted: boolean (nullable = true)\n",
            " |-- Expanded_feeds_lat: long (nullable = true)\n",
            " |-- Expanded_feeds_lng: long (nullable = true)\n",
            " |-- Expanded_feeds_location: string (nullable = true)\n",
            " |-- Expanded_feeds_mediatype: long (nullable = true)\n",
            " |-- Expanded_feeds_msg: string (nullable = true)\n",
            " |-- Expanded_feeds_name: string (nullable = true)\n",
            " |-- Expanded_feeds_profilePicture: string (nullable = true)\n",
            " |-- Expanded_feeds_title: string (nullable = true)\n",
            " |-- Expanded_feeds_userId: long (nullable = true)\n",
            " |-- Expanded_feeds_videoUrl: string (nullable = true)\n",
            " |-- Expanded_feeds_likeDislike_dislikes: long (nullable = true)\n",
            " |-- Expanded_feeds_likeDislike_likes: long (nullable = true)\n",
            " |-- Expanded_feeds_likeDislike_userAction: long (nullable = true)\n",
            " |-- Expanded_Expanded_feeds_multiMedia_createAt: string (nullable = true)\n",
            " |-- Expanded_Expanded_feeds_multiMedia_description: string (nullable = true)\n",
            " |-- Expanded_Expanded_feeds_multiMedia_id: long (nullable = true)\n",
            " |-- Expanded_Expanded_feeds_multiMedia_likeCount: long (nullable = true)\n",
            " |-- Expanded_Expanded_feeds_multiMedia_mediatype: long (nullable = true)\n",
            " |-- Expanded_Expanded_feeds_multiMedia_name: string (nullable = true)\n",
            " |-- Expanded_Expanded_feeds_multiMedia_place: string (nullable = true)\n",
            " |-- Expanded_Expanded_feeds_multiMedia_url: string (nullable = true)\n",
            "\n"
          ],
          "name": "stdout"
        }
      ]
    },
    {
      "cell_type": "code",
      "metadata": {
        "id": "oGUdYxd75_qC"
      },
      "source": [
        ""
      ],
      "execution_count": null,
      "outputs": []
    }
  ]
}
