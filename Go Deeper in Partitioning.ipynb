{
  "nbformat": 4,
  "nbformat_minor": 0,
  "metadata": {
    "colab": {
      "name": "Untitled13.ipynb",
      "provenance": []
    },
    "kernelspec": {
      "name": "python3",
      "display_name": "Python 3"
    }
  },
  "cells": [
    {
      "cell_type": "code",
      "metadata": {
        "colab": {
          "base_uri": "https://localhost:8080/"
        },
        "id": "ruq5-TkKCUSF",
        "outputId": "dc1449c3-7bc7-45be-9c51-09d30575a9ee"
      },
      "source": [
        "!pip install pyspark"
      ],
      "execution_count": 69,
      "outputs": [
        {
          "output_type": "stream",
          "text": [
            "Requirement already satisfied: pyspark in /usr/local/lib/python3.6/dist-packages (3.0.2)\n",
            "Requirement already satisfied: py4j==0.10.9 in /usr/local/lib/python3.6/dist-packages (from pyspark) (0.10.9)\n"
          ],
          "name": "stdout"
        }
      ]
    },
    {
      "cell_type": "code",
      "metadata": {
        "id": "SfXwwzTGCksu"
      },
      "source": [
        "from pyspark.sql import SparkSession;"
      ],
      "execution_count": 52,
      "outputs": []
    },
    {
      "cell_type": "code",
      "metadata": {
        "id": "Qa3ttP_bCxR4"
      },
      "source": [
        "spark=SparkSession.builder.appName(\"Try\").getOrCreate()"
      ],
      "execution_count": 53,
      "outputs": []
    },
    {
      "cell_type": "code",
      "metadata": {
        "id": "lBPwZUaoD0Wc"
      },
      "source": [
        "df=spark.read.format('csv').option(\"inferschema\",\"true\").option('header','true').load('/content/1.csv');"
      ],
      "execution_count": 54,
      "outputs": []
    },
    {
      "cell_type": "code",
      "metadata": {
        "colab": {
          "base_uri": "https://localhost:8080/"
        },
        "id": "0BXbFYYIJwOD",
        "outputId": "e5742457-a4da-4500-cd2a-3421f6d78826"
      },
      "source": [
        "df.show()"
      ],
      "execution_count": 55,
      "outputs": [
        {
          "output_type": "stream",
          "text": [
            "+-----------+----------+-----------+----------+-----------+\n",
            "|sepallength|sepalwidth|petallength|petalwidth|      class|\n",
            "+-----------+----------+-----------+----------+-----------+\n",
            "|        5.1|       3.5|        1.4|       0.2|Iris-setosa|\n",
            "|        4.9|       3.0|        1.4|       0.2|Iris-setosa|\n",
            "|        4.7|       3.2|        1.3|       0.2|Iris-setosa|\n",
            "|        4.6|       3.1|        1.5|       0.2|Iris-setosa|\n",
            "|        5.0|       3.6|        1.4|       0.2|Iris-setosa|\n",
            "|        5.4|       3.9|        1.7|       0.4|Iris-setosa|\n",
            "|        4.6|       3.4|        1.4|       0.3|Iris-setosa|\n",
            "|        5.0|       3.4|        1.5|       0.2|Iris-setosa|\n",
            "|        4.4|       2.9|        1.4|       0.2|Iris-setosa|\n",
            "|        4.9|       3.1|        1.5|       0.1|Iris-setosa|\n",
            "|        5.4|       3.7|        1.5|       0.2|Iris-setosa|\n",
            "|        4.8|       3.4|        1.6|       0.2|Iris-setosa|\n",
            "|        4.8|       3.0|        1.4|       0.1|Iris-setosa|\n",
            "|        4.3|       3.0|        1.1|       0.1|Iris-setosa|\n",
            "|        5.8|       4.0|        1.2|       0.2|Iris-setosa|\n",
            "|        5.7|       4.4|        1.5|       0.4|Iris-setosa|\n",
            "|        5.4|       3.9|        1.3|       0.4|Iris-setosa|\n",
            "|        5.1|       3.5|        1.4|       0.3|Iris-setosa|\n",
            "|        5.7|       3.8|        1.7|       0.3|Iris-setosa|\n",
            "|        5.1|       3.8|        1.5|       0.3|Iris-setosa|\n",
            "+-----------+----------+-----------+----------+-----------+\n",
            "only showing top 20 rows\n",
            "\n"
          ],
          "name": "stdout"
        }
      ]
    },
    {
      "cell_type": "code",
      "metadata": {
        "colab": {
          "base_uri": "https://localhost:8080/"
        },
        "id": "ArVamBt8Jz7o",
        "outputId": "ab2953a0-c004-49f8-f587-23ea9e64f670"
      },
      "source": [
        "df.rdd.getNumPartitions()"
      ],
      "execution_count": 56,
      "outputs": [
        {
          "output_type": "execute_result",
          "data": {
            "text/plain": [
              "1"
            ]
          },
          "metadata": {
            "tags": []
          },
          "execution_count": 56
        }
      ]
    },
    {
      "cell_type": "code",
      "metadata": {
        "id": "4642cbJ2KBut"
      },
      "source": [
        "from pyspark.sql.functions import *"
      ],
      "execution_count": 57,
      "outputs": []
    },
    {
      "cell_type": "code",
      "metadata": {
        "id": "r6ViPXHuKP9H"
      },
      "source": [
        "df1=df.withColumn(\"Partition_Id\",spark_partition_id())"
      ],
      "execution_count": 58,
      "outputs": []
    },
    {
      "cell_type": "code",
      "metadata": {
        "colab": {
          "base_uri": "https://localhost:8080/"
        },
        "id": "JBAbcpziLKvY",
        "outputId": "ac18c11e-9f90-4c3e-a538-b2376779ea59"
      },
      "source": [
        "df1.show()"
      ],
      "execution_count": 59,
      "outputs": [
        {
          "output_type": "stream",
          "text": [
            "+-----------+----------+-----------+----------+-----------+------------+\n",
            "|sepallength|sepalwidth|petallength|petalwidth|      class|Partition_Id|\n",
            "+-----------+----------+-----------+----------+-----------+------------+\n",
            "|        5.1|       3.5|        1.4|       0.2|Iris-setosa|           0|\n",
            "|        4.9|       3.0|        1.4|       0.2|Iris-setosa|           0|\n",
            "|        4.7|       3.2|        1.3|       0.2|Iris-setosa|           0|\n",
            "|        4.6|       3.1|        1.5|       0.2|Iris-setosa|           0|\n",
            "|        5.0|       3.6|        1.4|       0.2|Iris-setosa|           0|\n",
            "|        5.4|       3.9|        1.7|       0.4|Iris-setosa|           0|\n",
            "|        4.6|       3.4|        1.4|       0.3|Iris-setosa|           0|\n",
            "|        5.0|       3.4|        1.5|       0.2|Iris-setosa|           0|\n",
            "|        4.4|       2.9|        1.4|       0.2|Iris-setosa|           0|\n",
            "|        4.9|       3.1|        1.5|       0.1|Iris-setosa|           0|\n",
            "|        5.4|       3.7|        1.5|       0.2|Iris-setosa|           0|\n",
            "|        4.8|       3.4|        1.6|       0.2|Iris-setosa|           0|\n",
            "|        4.8|       3.0|        1.4|       0.1|Iris-setosa|           0|\n",
            "|        4.3|       3.0|        1.1|       0.1|Iris-setosa|           0|\n",
            "|        5.8|       4.0|        1.2|       0.2|Iris-setosa|           0|\n",
            "|        5.7|       4.4|        1.5|       0.4|Iris-setosa|           0|\n",
            "|        5.4|       3.9|        1.3|       0.4|Iris-setosa|           0|\n",
            "|        5.1|       3.5|        1.4|       0.3|Iris-setosa|           0|\n",
            "|        5.7|       3.8|        1.7|       0.3|Iris-setosa|           0|\n",
            "|        5.1|       3.8|        1.5|       0.3|Iris-setosa|           0|\n",
            "+-----------+----------+-----------+----------+-----------+------------+\n",
            "only showing top 20 rows\n",
            "\n"
          ],
          "name": "stdout"
        }
      ]
    },
    {
      "cell_type": "code",
      "metadata": {
        "colab": {
          "base_uri": "https://localhost:8080/"
        },
        "id": "Zr6q_MTvLLtZ",
        "outputId": "faec6790-3f9d-47bc-d261-f953d41b42ad"
      },
      "source": [
        "df1.groupBy('Partition_Id').count().show()"
      ],
      "execution_count": 60,
      "outputs": [
        {
          "output_type": "stream",
          "text": [
            "+------------+-----+\n",
            "|Partition_Id|count|\n",
            "+------------+-----+\n",
            "|           0|  150|\n",
            "+------------+-----+\n",
            "\n"
          ],
          "name": "stdout"
        }
      ]
    },
    {
      "cell_type": "code",
      "metadata": {
        "id": "8gl39AGsLRKV"
      },
      "source": [
        "df2=df.repartition(4);"
      ],
      "execution_count": 61,
      "outputs": []
    },
    {
      "cell_type": "code",
      "metadata": {
        "colab": {
          "base_uri": "https://localhost:8080/"
        },
        "id": "udAK3ey0L8y4",
        "outputId": "4b90c88d-5695-4244-dc24-634f3076b582"
      },
      "source": [
        "df2.rdd.getNumPartitions()"
      ],
      "execution_count": 62,
      "outputs": [
        {
          "output_type": "execute_result",
          "data": {
            "text/plain": [
              "4"
            ]
          },
          "metadata": {
            "tags": []
          },
          "execution_count": 62
        }
      ]
    },
    {
      "cell_type": "code",
      "metadata": {
        "id": "v_dnWEeLLdaF"
      },
      "source": [
        "df2=df2.withColumn(\"Partition_Id\",spark_partition_id())"
      ],
      "execution_count": 63,
      "outputs": []
    },
    {
      "cell_type": "code",
      "metadata": {
        "colab": {
          "base_uri": "https://localhost:8080/"
        },
        "id": "hWJTNnHpLy0S",
        "outputId": "f349b90d-dcaf-4f94-b3e6-8da9f38465c2"
      },
      "source": [
        "df2.show()"
      ],
      "execution_count": 64,
      "outputs": [
        {
          "output_type": "stream",
          "text": [
            "+-----------+----------+-----------+----------+---------------+------------+\n",
            "|sepallength|sepalwidth|petallength|petalwidth|          class|Partition_Id|\n",
            "+-----------+----------+-----------+----------+---------------+------------+\n",
            "|        6.0|       2.7|        5.1|       1.6|Iris-versicolor|           0|\n",
            "|        4.4|       3.2|        1.3|       0.2|    Iris-setosa|           0|\n",
            "|        4.9|       3.1|        1.5|       0.1|    Iris-setosa|           0|\n",
            "|        7.7|       3.0|        6.1|       2.3| Iris-virginica|           0|\n",
            "|        5.4|       3.7|        1.5|       0.2|    Iris-setosa|           0|\n",
            "|        6.1|       2.6|        5.6|       1.4| Iris-virginica|           0|\n",
            "|        5.5|       4.2|        1.4|       0.2|    Iris-setosa|           0|\n",
            "|        4.8|       3.0|        1.4|       0.3|    Iris-setosa|           0|\n",
            "|        4.9|       3.0|        1.4|       0.2|    Iris-setosa|           0|\n",
            "|        5.1|       3.8|        1.5|       0.3|    Iris-setosa|           0|\n",
            "|        5.4|       3.4|        1.7|       0.2|    Iris-setosa|           0|\n",
            "|        6.7|       3.1|        5.6|       2.4| Iris-virginica|           0|\n",
            "|        7.1|       3.0|        5.9|       2.1| Iris-virginica|           0|\n",
            "|        5.7|       4.4|        1.5|       0.4|    Iris-setosa|           0|\n",
            "|        6.3|       2.7|        4.9|       1.8| Iris-virginica|           0|\n",
            "|        4.6|       3.6|        1.0|       0.2|    Iris-setosa|           0|\n",
            "|        6.5|       3.2|        5.1|       2.0| Iris-virginica|           0|\n",
            "|        7.7|       2.6|        6.9|       2.3| Iris-virginica|           0|\n",
            "|        5.2|       2.7|        3.9|       1.4|Iris-versicolor|           0|\n",
            "|        6.7|       3.3|        5.7|       2.5| Iris-virginica|           0|\n",
            "+-----------+----------+-----------+----------+---------------+------------+\n",
            "only showing top 20 rows\n",
            "\n"
          ],
          "name": "stdout"
        }
      ]
    },
    {
      "cell_type": "code",
      "metadata": {
        "colab": {
          "base_uri": "https://localhost:8080/"
        },
        "id": "IAmNiVtCLph1",
        "outputId": "c6643a03-7644-44ec-85ce-dc819c47e6cf"
      },
      "source": [
        "df2.groupBy('Partition_Id').count().show()"
      ],
      "execution_count": 65,
      "outputs": [
        {
          "output_type": "stream",
          "text": [
            "+------------+-----+\n",
            "|Partition_Id|count|\n",
            "+------------+-----+\n",
            "|           1|   37|\n",
            "|           3|   38|\n",
            "|           2|   37|\n",
            "|           0|   38|\n",
            "+------------+-----+\n",
            "\n"
          ],
          "name": "stdout"
        }
      ]
    },
    {
      "cell_type": "code",
      "metadata": {
        "colab": {
          "base_uri": "https://localhost:8080/"
        },
        "id": "Ct5Pjm41LunL",
        "outputId": "7313d699-47d5-48e3-f5a8-99b60886a653"
      },
      "source": [
        "df3=df.repartition('class');\r\n",
        "df3=df3.withColumn(\"Partition_Id\",spark_partition_id())\r\n",
        "df3.groupBy('Partition_Id').count().show()"
      ],
      "execution_count": 67,
      "outputs": [
        {
          "output_type": "stream",
          "text": [
            "+------------+-----+\n",
            "|Partition_Id|count|\n",
            "+------------+-----+\n",
            "|          44|   50|\n",
            "|          16|   50|\n",
            "|         147|   50|\n",
            "+------------+-----+\n",
            "\n"
          ],
          "name": "stdout"
        }
      ]
    },
    {
      "cell_type": "code",
      "metadata": {
        "colab": {
          "base_uri": "https://localhost:8080/"
        },
        "id": "uBYoQ-SHMkeK",
        "outputId": "a2e2e920-333a-4126-bd9c-977ecf73ea96"
      },
      "source": [
        "df3.show(150)"
      ],
      "execution_count": 68,
      "outputs": [
        {
          "output_type": "stream",
          "text": [
            "+-----------+----------+-----------+----------+---------------+------------+\n",
            "|sepallength|sepalwidth|petallength|petalwidth|          class|Partition_Id|\n",
            "+-----------+----------+-----------+----------+---------------+------------+\n",
            "|        6.3|       3.3|        6.0|       2.5| Iris-virginica|          16|\n",
            "|        5.8|       2.7|        5.1|       1.9| Iris-virginica|          16|\n",
            "|        7.1|       3.0|        5.9|       2.1| Iris-virginica|          16|\n",
            "|        6.3|       2.9|        5.6|       1.8| Iris-virginica|          16|\n",
            "|        6.5|       3.0|        5.8|       2.2| Iris-virginica|          16|\n",
            "|        7.6|       3.0|        6.6|       2.1| Iris-virginica|          16|\n",
            "|        4.9|       2.5|        4.5|       1.7| Iris-virginica|          16|\n",
            "|        7.3|       2.9|        6.3|       1.8| Iris-virginica|          16|\n",
            "|        6.7|       2.5|        5.8|       1.8| Iris-virginica|          16|\n",
            "|        7.2|       3.6|        6.1|       2.5| Iris-virginica|          16|\n",
            "|        6.5|       3.2|        5.1|       2.0| Iris-virginica|          16|\n",
            "|        6.4|       2.7|        5.3|       1.9| Iris-virginica|          16|\n",
            "|        6.8|       3.0|        5.5|       2.1| Iris-virginica|          16|\n",
            "|        5.7|       2.5|        5.0|       2.0| Iris-virginica|          16|\n",
            "|        5.8|       2.8|        5.1|       2.4| Iris-virginica|          16|\n",
            "|        6.4|       3.2|        5.3|       2.3| Iris-virginica|          16|\n",
            "|        6.5|       3.0|        5.5|       1.8| Iris-virginica|          16|\n",
            "|        7.7|       3.8|        6.7|       2.2| Iris-virginica|          16|\n",
            "|        7.7|       2.6|        6.9|       2.3| Iris-virginica|          16|\n",
            "|        6.0|       2.2|        5.0|       1.5| Iris-virginica|          16|\n",
            "|        6.9|       3.2|        5.7|       2.3| Iris-virginica|          16|\n",
            "|        5.6|       2.8|        4.9|       2.0| Iris-virginica|          16|\n",
            "|        7.7|       2.8|        6.7|       2.0| Iris-virginica|          16|\n",
            "|        6.3|       2.7|        4.9|       1.8| Iris-virginica|          16|\n",
            "|        6.7|       3.3|        5.7|       2.1| Iris-virginica|          16|\n",
            "|        7.2|       3.2|        6.0|       1.8| Iris-virginica|          16|\n",
            "|        6.2|       2.8|        4.8|       1.8| Iris-virginica|          16|\n",
            "|        6.1|       3.0|        4.9|       1.8| Iris-virginica|          16|\n",
            "|        6.4|       2.8|        5.6|       2.1| Iris-virginica|          16|\n",
            "|        7.2|       3.0|        5.8|       1.6| Iris-virginica|          16|\n",
            "|        7.4|       2.8|        6.1|       1.9| Iris-virginica|          16|\n",
            "|        7.9|       3.8|        6.4|       2.0| Iris-virginica|          16|\n",
            "|        6.4|       2.8|        5.6|       2.2| Iris-virginica|          16|\n",
            "|        6.3|       2.8|        5.1|       1.5| Iris-virginica|          16|\n",
            "|        6.1|       2.6|        5.6|       1.4| Iris-virginica|          16|\n",
            "|        7.7|       3.0|        6.1|       2.3| Iris-virginica|          16|\n",
            "|        6.3|       3.4|        5.6|       2.4| Iris-virginica|          16|\n",
            "|        6.4|       3.1|        5.5|       1.8| Iris-virginica|          16|\n",
            "|        6.0|       3.0|        4.8|       1.8| Iris-virginica|          16|\n",
            "|        6.9|       3.1|        5.4|       2.1| Iris-virginica|          16|\n",
            "|        6.7|       3.1|        5.6|       2.4| Iris-virginica|          16|\n",
            "|        6.9|       3.1|        5.1|       2.3| Iris-virginica|          16|\n",
            "|        5.8|       2.7|        5.1|       1.9| Iris-virginica|          16|\n",
            "|        6.8|       3.2|        5.9|       2.3| Iris-virginica|          16|\n",
            "|        6.7|       3.3|        5.7|       2.5| Iris-virginica|          16|\n",
            "|        6.7|       3.0|        5.2|       2.3| Iris-virginica|          16|\n",
            "|        6.3|       2.5|        5.0|       1.9| Iris-virginica|          16|\n",
            "|        6.5|       3.0|        5.2|       2.0| Iris-virginica|          16|\n",
            "|        6.2|       3.4|        5.4|       2.3| Iris-virginica|          16|\n",
            "|        5.9|       3.0|        5.1|       1.8| Iris-virginica|          16|\n",
            "|        5.1|       3.5|        1.4|       0.2|    Iris-setosa|          44|\n",
            "|        4.9|       3.0|        1.4|       0.2|    Iris-setosa|          44|\n",
            "|        4.7|       3.2|        1.3|       0.2|    Iris-setosa|          44|\n",
            "|        4.6|       3.1|        1.5|       0.2|    Iris-setosa|          44|\n",
            "|        5.0|       3.6|        1.4|       0.2|    Iris-setosa|          44|\n",
            "|        5.4|       3.9|        1.7|       0.4|    Iris-setosa|          44|\n",
            "|        4.6|       3.4|        1.4|       0.3|    Iris-setosa|          44|\n",
            "|        5.0|       3.4|        1.5|       0.2|    Iris-setosa|          44|\n",
            "|        4.4|       2.9|        1.4|       0.2|    Iris-setosa|          44|\n",
            "|        4.9|       3.1|        1.5|       0.1|    Iris-setosa|          44|\n",
            "|        5.4|       3.7|        1.5|       0.2|    Iris-setosa|          44|\n",
            "|        4.8|       3.4|        1.6|       0.2|    Iris-setosa|          44|\n",
            "|        4.8|       3.0|        1.4|       0.1|    Iris-setosa|          44|\n",
            "|        4.3|       3.0|        1.1|       0.1|    Iris-setosa|          44|\n",
            "|        5.8|       4.0|        1.2|       0.2|    Iris-setosa|          44|\n",
            "|        5.7|       4.4|        1.5|       0.4|    Iris-setosa|          44|\n",
            "|        5.4|       3.9|        1.3|       0.4|    Iris-setosa|          44|\n",
            "|        5.1|       3.5|        1.4|       0.3|    Iris-setosa|          44|\n",
            "|        5.7|       3.8|        1.7|       0.3|    Iris-setosa|          44|\n",
            "|        5.1|       3.8|        1.5|       0.3|    Iris-setosa|          44|\n",
            "|        5.4|       3.4|        1.7|       0.2|    Iris-setosa|          44|\n",
            "|        5.1|       3.7|        1.5|       0.4|    Iris-setosa|          44|\n",
            "|        4.6|       3.6|        1.0|       0.2|    Iris-setosa|          44|\n",
            "|        5.1|       3.3|        1.7|       0.5|    Iris-setosa|          44|\n",
            "|        4.8|       3.4|        1.9|       0.2|    Iris-setosa|          44|\n",
            "|        5.0|       3.0|        1.6|       0.2|    Iris-setosa|          44|\n",
            "|        5.0|       3.4|        1.6|       0.4|    Iris-setosa|          44|\n",
            "|        5.2|       3.5|        1.5|       0.2|    Iris-setosa|          44|\n",
            "|        5.2|       3.4|        1.4|       0.2|    Iris-setosa|          44|\n",
            "|        4.7|       3.2|        1.6|       0.2|    Iris-setosa|          44|\n",
            "|        4.8|       3.1|        1.6|       0.2|    Iris-setosa|          44|\n",
            "|        5.4|       3.4|        1.5|       0.4|    Iris-setosa|          44|\n",
            "|        5.2|       4.1|        1.5|       0.1|    Iris-setosa|          44|\n",
            "|        5.5|       4.2|        1.4|       0.2|    Iris-setosa|          44|\n",
            "|        4.9|       3.1|        1.5|       0.1|    Iris-setosa|          44|\n",
            "|        5.0|       3.2|        1.2|       0.2|    Iris-setosa|          44|\n",
            "|        5.5|       3.5|        1.3|       0.2|    Iris-setosa|          44|\n",
            "|        4.9|       3.1|        1.5|       0.1|    Iris-setosa|          44|\n",
            "|        4.4|       3.0|        1.3|       0.2|    Iris-setosa|          44|\n",
            "|        5.1|       3.4|        1.5|       0.2|    Iris-setosa|          44|\n",
            "|        5.0|       3.5|        1.3|       0.3|    Iris-setosa|          44|\n",
            "|        4.5|       2.3|        1.3|       0.3|    Iris-setosa|          44|\n",
            "|        4.4|       3.2|        1.3|       0.2|    Iris-setosa|          44|\n",
            "|        5.0|       3.5|        1.6|       0.6|    Iris-setosa|          44|\n",
            "|        5.1|       3.8|        1.9|       0.4|    Iris-setosa|          44|\n",
            "|        4.8|       3.0|        1.4|       0.3|    Iris-setosa|          44|\n",
            "|        5.1|       3.8|        1.6|       0.2|    Iris-setosa|          44|\n",
            "|        4.6|       3.2|        1.4|       0.2|    Iris-setosa|          44|\n",
            "|        5.3|       3.7|        1.5|       0.2|    Iris-setosa|          44|\n",
            "|        5.0|       3.3|        1.4|       0.2|    Iris-setosa|          44|\n",
            "|        7.0|       3.2|        4.7|       1.4|Iris-versicolor|         147|\n",
            "|        6.4|       3.2|        4.5|       1.5|Iris-versicolor|         147|\n",
            "|        6.9|       3.1|        4.9|       1.5|Iris-versicolor|         147|\n",
            "|        5.5|       2.3|        4.0|       1.3|Iris-versicolor|         147|\n",
            "|        6.5|       2.8|        4.6|       1.5|Iris-versicolor|         147|\n",
            "|        5.7|       2.8|        4.5|       1.3|Iris-versicolor|         147|\n",
            "|        6.3|       3.3|        4.7|       1.6|Iris-versicolor|         147|\n",
            "|        4.9|       2.4|        3.3|       1.0|Iris-versicolor|         147|\n",
            "|        6.6|       2.9|        4.6|       1.3|Iris-versicolor|         147|\n",
            "|        5.2|       2.7|        3.9|       1.4|Iris-versicolor|         147|\n",
            "|        5.0|       2.0|        3.5|       1.0|Iris-versicolor|         147|\n",
            "|        5.9|       3.0|        4.2|       1.5|Iris-versicolor|         147|\n",
            "|        6.0|       2.2|        4.0|       1.0|Iris-versicolor|         147|\n",
            "|        6.1|       2.9|        4.7|       1.4|Iris-versicolor|         147|\n",
            "|        5.6|       2.9|        3.6|       1.3|Iris-versicolor|         147|\n",
            "|        6.7|       3.1|        4.4|       1.4|Iris-versicolor|         147|\n",
            "|        5.6|       3.0|        4.5|       1.5|Iris-versicolor|         147|\n",
            "|        5.8|       2.7|        4.1|       1.0|Iris-versicolor|         147|\n",
            "|        6.2|       2.2|        4.5|       1.5|Iris-versicolor|         147|\n",
            "|        5.6|       2.5|        3.9|       1.1|Iris-versicolor|         147|\n",
            "|        5.9|       3.2|        4.8|       1.8|Iris-versicolor|         147|\n",
            "|        6.1|       2.8|        4.0|       1.3|Iris-versicolor|         147|\n",
            "|        6.3|       2.5|        4.9|       1.5|Iris-versicolor|         147|\n",
            "|        6.1|       2.8|        4.7|       1.2|Iris-versicolor|         147|\n",
            "|        6.4|       2.9|        4.3|       1.3|Iris-versicolor|         147|\n",
            "|        6.6|       3.0|        4.4|       1.4|Iris-versicolor|         147|\n",
            "|        6.8|       2.8|        4.8|       1.4|Iris-versicolor|         147|\n",
            "|        6.7|       3.0|        5.0|       1.7|Iris-versicolor|         147|\n",
            "|        6.0|       2.9|        4.5|       1.5|Iris-versicolor|         147|\n",
            "|        5.7|       2.6|        3.5|       1.0|Iris-versicolor|         147|\n",
            "|        5.5|       2.4|        3.8|       1.1|Iris-versicolor|         147|\n",
            "|        5.5|       2.4|        3.7|       1.0|Iris-versicolor|         147|\n",
            "|        5.8|       2.7|        3.9|       1.2|Iris-versicolor|         147|\n",
            "|        6.0|       2.7|        5.1|       1.6|Iris-versicolor|         147|\n",
            "|        5.4|       3.0|        4.5|       1.5|Iris-versicolor|         147|\n",
            "|        6.0|       3.4|        4.5|       1.6|Iris-versicolor|         147|\n",
            "|        6.7|       3.1|        4.7|       1.5|Iris-versicolor|         147|\n",
            "|        6.3|       2.3|        4.4|       1.3|Iris-versicolor|         147|\n",
            "|        5.6|       3.0|        4.1|       1.3|Iris-versicolor|         147|\n",
            "|        5.5|       2.5|        4.0|       1.3|Iris-versicolor|         147|\n",
            "|        5.5|       2.6|        4.4|       1.2|Iris-versicolor|         147|\n",
            "|        6.1|       3.0|        4.6|       1.4|Iris-versicolor|         147|\n",
            "|        5.8|       2.6|        4.0|       1.2|Iris-versicolor|         147|\n",
            "|        5.0|       2.3|        3.3|       1.0|Iris-versicolor|         147|\n",
            "|        5.6|       2.7|        4.2|       1.3|Iris-versicolor|         147|\n",
            "|        5.7|       3.0|        4.2|       1.2|Iris-versicolor|         147|\n",
            "|        5.7|       2.9|        4.2|       1.3|Iris-versicolor|         147|\n",
            "|        6.2|       2.9|        4.3|       1.3|Iris-versicolor|         147|\n",
            "|        5.1|       2.5|        3.0|       1.1|Iris-versicolor|         147|\n",
            "|        5.7|       2.8|        4.1|       1.3|Iris-versicolor|         147|\n",
            "+-----------+----------+-----------+----------+---------------+------------+\n",
            "\n"
          ],
          "name": "stdout"
        }
      ]
    },
    {
      "cell_type": "code",
      "metadata": {
        "id": "EsnvI3NlMtAO"
      },
      "source": [
        ""
      ],
      "execution_count": null,
      "outputs": []
    }
  ]
}
